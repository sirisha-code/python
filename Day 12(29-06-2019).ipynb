{
 "cells": [
  {
   "cell_type": "code",
   "execution_count": 4,
   "metadata": {},
   "outputs": [
    {
     "name": "stdout",
     "output_type": "stream",
     "text": [
      "0    1\n",
      "1    3\n",
      "2    4\n",
      "3    5\n",
      "4    6\n",
      "5    7\n",
      "dtype: int64\n"
     ]
    }
   ],
   "source": [
    "#Create a series of numbers by passing a list of values\n",
    "\n",
    "import pandas as pd\n",
    "a=pd.Series([1,3,4,5,6,7])\n",
    "print(a)"
   ]
  },
  {
   "cell_type": "code",
   "execution_count": 9,
   "metadata": {},
   "outputs": [
    {
     "name": "stdout",
     "output_type": "stream",
     "text": [
      "0    1.0\n",
      "1    2.0\n",
      "2    3.0\n",
      "3    4.0\n",
      "4    NaN\n",
      "5    6.0\n",
      "dtype: float64\n"
     ]
    }
   ],
   "source": [
    "#Missing valuesthen it can be nan of numpy\n",
    "\n",
    "import numpy as np\n",
    "a1=pd.Series([1,2,3,4,np.nan,6])\n",
    "print(a1)"
   ]
  },
  {
   "cell_type": "code",
   "execution_count": 12,
   "metadata": {},
   "outputs": [
    {
     "name": "stdout",
     "output_type": "stream",
     "text": [
      "DatetimeIndex(['2019-06-01', '2019-06-02', '2019-06-03', '2019-06-04',\n",
      "               '2019-06-05', '2019-06-06', '2019-06-07', '2019-06-08',\n",
      "               '2019-06-09', '2019-06-10'],\n",
      "              dtype='datetime64[ns]', freq='D')\n"
     ]
    }
   ],
   "source": [
    "#Create a list of dates with in particular range\n",
    "\n",
    "dates=pd.date_range('20190601',periods=20)\n",
    "print(dates)"
   ]
  },
  {
   "cell_type": "code",
   "execution_count": 13,
   "metadata": {},
   "outputs": [
    {
     "name": "stdout",
     "output_type": "stream",
     "text": [
      "DatetimeIndex(['2019-06-01', '2019-06-02', '2019-06-03', '2019-06-04',\n",
      "               '2019-06-05'],\n",
      "              dtype='datetime64[ns]', freq='D')\n"
     ]
    }
   ],
   "source": [
    "lst=pd.date_range('20190601',periods=5)\n",
    "print(lst)"
   ]
  },
  {
   "cell_type": "code",
   "execution_count": 14,
   "metadata": {
    "scrolled": true
   },
   "outputs": [
    {
     "ename": "ValueError",
     "evalue": "Shape of passed values is (5, 1), indices imply (10, 4)",
     "output_type": "error",
     "traceback": [
      "\u001b[1;31m---------------------------------------------------------------------------\u001b[0m",
      "\u001b[1;31mValueError\u001b[0m                                Traceback (most recent call last)",
      "\u001b[1;32mC:\\Users\\cum\\Anaconda3\\lib\\site-packages\\pandas\\core\\internals\\managers.py\u001b[0m in \u001b[0;36mcreate_block_manager_from_blocks\u001b[1;34m(blocks, axes)\u001b[0m\n\u001b[0;32m   1650\u001b[0m                 blocks = [make_block(values=blocks[0],\n\u001b[1;32m-> 1651\u001b[1;33m                                      placement=slice(0, len(axes[0])))]\n\u001b[0m\u001b[0;32m   1652\u001b[0m \u001b[1;33m\u001b[0m\u001b[0m\n",
      "\u001b[1;32mC:\\Users\\cum\\Anaconda3\\lib\\site-packages\\pandas\\core\\internals\\blocks.py\u001b[0m in \u001b[0;36mmake_block\u001b[1;34m(values, placement, klass, ndim, dtype, fastpath)\u001b[0m\n\u001b[0;32m   3094\u001b[0m \u001b[1;33m\u001b[0m\u001b[0m\n\u001b[1;32m-> 3095\u001b[1;33m     \u001b[1;32mreturn\u001b[0m \u001b[0mklass\u001b[0m\u001b[1;33m(\u001b[0m\u001b[0mvalues\u001b[0m\u001b[1;33m,\u001b[0m \u001b[0mndim\u001b[0m\u001b[1;33m=\u001b[0m\u001b[0mndim\u001b[0m\u001b[1;33m,\u001b[0m \u001b[0mplacement\u001b[0m\u001b[1;33m=\u001b[0m\u001b[0mplacement\u001b[0m\u001b[1;33m)\u001b[0m\u001b[1;33m\u001b[0m\u001b[1;33m\u001b[0m\u001b[0m\n\u001b[0m\u001b[0;32m   3096\u001b[0m \u001b[1;33m\u001b[0m\u001b[0m\n",
      "\u001b[1;32mC:\\Users\\cum\\Anaconda3\\lib\\site-packages\\pandas\\core\\internals\\blocks.py\u001b[0m in \u001b[0;36m__init__\u001b[1;34m(self, values, placement, ndim)\u001b[0m\n\u001b[0;32m   2096\u001b[0m         super(DatetimeBlock, self).__init__(values,\n\u001b[1;32m-> 2097\u001b[1;33m                                             placement=placement, ndim=ndim)\n\u001b[0m\u001b[0;32m   2098\u001b[0m \u001b[1;33m\u001b[0m\u001b[0m\n",
      "\u001b[1;32mC:\\Users\\cum\\Anaconda3\\lib\\site-packages\\pandas\\core\\internals\\blocks.py\u001b[0m in \u001b[0;36m__init__\u001b[1;34m(self, values, placement, ndim)\u001b[0m\n\u001b[0;32m     86\u001b[0m                 \u001b[1;34m'Wrong number of items passed {val}, placement implies '\u001b[0m\u001b[1;33m\u001b[0m\u001b[1;33m\u001b[0m\u001b[0m\n\u001b[1;32m---> 87\u001b[1;33m                 '{mgr}'.format(val=len(self.values), mgr=len(self.mgr_locs)))\n\u001b[0m\u001b[0;32m     88\u001b[0m \u001b[1;33m\u001b[0m\u001b[0m\n",
      "\u001b[1;31mValueError\u001b[0m: Wrong number of items passed 1, placement implies 4",
      "\nDuring handling of the above exception, another exception occurred:\n",
      "\u001b[1;31mValueError\u001b[0m                                Traceback (most recent call last)",
      "\u001b[1;32m<ipython-input-14-e303f499c1b1>\u001b[0m in \u001b[0;36m<module>\u001b[1;34m\u001b[0m\n\u001b[1;32m----> 1\u001b[1;33m \u001b[0ma2\u001b[0m\u001b[1;33m=\u001b[0m\u001b[0mpd\u001b[0m\u001b[1;33m.\u001b[0m\u001b[0mDataFrame\u001b[0m\u001b[1;33m(\u001b[0m\u001b[0mpd\u001b[0m\u001b[1;33m.\u001b[0m\u001b[0mdate_range\u001b[0m\u001b[1;33m(\u001b[0m\u001b[1;34m'20190601'\u001b[0m\u001b[1;33m,\u001b[0m\u001b[0mperiods\u001b[0m\u001b[1;33m=\u001b[0m\u001b[1;36m5\u001b[0m\u001b[1;33m)\u001b[0m\u001b[1;33m,\u001b[0m\u001b[0mindex\u001b[0m\u001b[1;33m=\u001b[0m\u001b[0mdates\u001b[0m\u001b[1;33m,\u001b[0m\u001b[0mcolumns\u001b[0m\u001b[1;33m=\u001b[0m\u001b[0mlist\u001b[0m\u001b[1;33m(\u001b[0m\u001b[1;34m'ABCD'\u001b[0m\u001b[1;33m)\u001b[0m\u001b[1;33m)\u001b[0m\u001b[1;33m\u001b[0m\u001b[1;33m\u001b[0m\u001b[0m\n\u001b[0m\u001b[0;32m      2\u001b[0m \u001b[0mprint\u001b[0m\u001b[1;33m(\u001b[0m\u001b[0ma2\u001b[0m\u001b[1;33m)\u001b[0m\u001b[1;33m\u001b[0m\u001b[1;33m\u001b[0m\u001b[0m\n",
      "\u001b[1;32mC:\\Users\\cum\\Anaconda3\\lib\\site-packages\\pandas\\core\\frame.py\u001b[0m in \u001b[0;36m__init__\u001b[1;34m(self, data, index, columns, dtype, copy)\u001b[0m\n\u001b[0;32m    422\u001b[0m             \u001b[1;32melse\u001b[0m\u001b[1;33m:\u001b[0m\u001b[1;33m\u001b[0m\u001b[1;33m\u001b[0m\u001b[0m\n\u001b[0;32m    423\u001b[0m                 mgr = init_ndarray(data, index, columns, dtype=dtype,\n\u001b[1;32m--> 424\u001b[1;33m                                    copy=copy)\n\u001b[0m\u001b[0;32m    425\u001b[0m \u001b[1;33m\u001b[0m\u001b[0m\n\u001b[0;32m    426\u001b[0m         \u001b[1;31m# For data is list-like, or Iterable (will consume into list)\u001b[0m\u001b[1;33m\u001b[0m\u001b[1;33m\u001b[0m\u001b[1;33m\u001b[0m\u001b[0m\n",
      "\u001b[1;32mC:\\Users\\cum\\Anaconda3\\lib\\site-packages\\pandas\\core\\internals\\construction.py\u001b[0m in \u001b[0;36minit_ndarray\u001b[1;34m(values, index, columns, dtype, copy)\u001b[0m\n\u001b[0;32m    165\u001b[0m         \u001b[0mvalues\u001b[0m \u001b[1;33m=\u001b[0m \u001b[0mmaybe_infer_to_datetimelike\u001b[0m\u001b[1;33m(\u001b[0m\u001b[0mvalues\u001b[0m\u001b[1;33m)\u001b[0m\u001b[1;33m\u001b[0m\u001b[1;33m\u001b[0m\u001b[0m\n\u001b[0;32m    166\u001b[0m \u001b[1;33m\u001b[0m\u001b[0m\n\u001b[1;32m--> 167\u001b[1;33m     \u001b[1;32mreturn\u001b[0m \u001b[0mcreate_block_manager_from_blocks\u001b[0m\u001b[1;33m(\u001b[0m\u001b[1;33m[\u001b[0m\u001b[0mvalues\u001b[0m\u001b[1;33m]\u001b[0m\u001b[1;33m,\u001b[0m \u001b[1;33m[\u001b[0m\u001b[0mcolumns\u001b[0m\u001b[1;33m,\u001b[0m \u001b[0mindex\u001b[0m\u001b[1;33m]\u001b[0m\u001b[1;33m)\u001b[0m\u001b[1;33m\u001b[0m\u001b[1;33m\u001b[0m\u001b[0m\n\u001b[0m\u001b[0;32m    168\u001b[0m \u001b[1;33m\u001b[0m\u001b[0m\n\u001b[0;32m    169\u001b[0m \u001b[1;33m\u001b[0m\u001b[0m\n",
      "\u001b[1;32mC:\\Users\\cum\\Anaconda3\\lib\\site-packages\\pandas\\core\\internals\\managers.py\u001b[0m in \u001b[0;36mcreate_block_manager_from_blocks\u001b[1;34m(blocks, axes)\u001b[0m\n\u001b[0;32m   1658\u001b[0m         \u001b[0mblocks\u001b[0m \u001b[1;33m=\u001b[0m \u001b[1;33m[\u001b[0m\u001b[0mgetattr\u001b[0m\u001b[1;33m(\u001b[0m\u001b[0mb\u001b[0m\u001b[1;33m,\u001b[0m \u001b[1;34m'values'\u001b[0m\u001b[1;33m,\u001b[0m \u001b[0mb\u001b[0m\u001b[1;33m)\u001b[0m \u001b[1;32mfor\u001b[0m \u001b[0mb\u001b[0m \u001b[1;32min\u001b[0m \u001b[0mblocks\u001b[0m\u001b[1;33m]\u001b[0m\u001b[1;33m\u001b[0m\u001b[1;33m\u001b[0m\u001b[0m\n\u001b[0;32m   1659\u001b[0m         \u001b[0mtot_items\u001b[0m \u001b[1;33m=\u001b[0m \u001b[0msum\u001b[0m\u001b[1;33m(\u001b[0m\u001b[0mb\u001b[0m\u001b[1;33m.\u001b[0m\u001b[0mshape\u001b[0m\u001b[1;33m[\u001b[0m\u001b[1;36m0\u001b[0m\u001b[1;33m]\u001b[0m \u001b[1;32mfor\u001b[0m \u001b[0mb\u001b[0m \u001b[1;32min\u001b[0m \u001b[0mblocks\u001b[0m\u001b[1;33m)\u001b[0m\u001b[1;33m\u001b[0m\u001b[1;33m\u001b[0m\u001b[0m\n\u001b[1;32m-> 1660\u001b[1;33m         \u001b[0mconstruction_error\u001b[0m\u001b[1;33m(\u001b[0m\u001b[0mtot_items\u001b[0m\u001b[1;33m,\u001b[0m \u001b[0mblocks\u001b[0m\u001b[1;33m[\u001b[0m\u001b[1;36m0\u001b[0m\u001b[1;33m]\u001b[0m\u001b[1;33m.\u001b[0m\u001b[0mshape\u001b[0m\u001b[1;33m[\u001b[0m\u001b[1;36m1\u001b[0m\u001b[1;33m:\u001b[0m\u001b[1;33m]\u001b[0m\u001b[1;33m,\u001b[0m \u001b[0maxes\u001b[0m\u001b[1;33m,\u001b[0m \u001b[0me\u001b[0m\u001b[1;33m)\u001b[0m\u001b[1;33m\u001b[0m\u001b[1;33m\u001b[0m\u001b[0m\n\u001b[0m\u001b[0;32m   1661\u001b[0m \u001b[1;33m\u001b[0m\u001b[0m\n\u001b[0;32m   1662\u001b[0m \u001b[1;33m\u001b[0m\u001b[0m\n",
      "\u001b[1;32mC:\\Users\\cum\\Anaconda3\\lib\\site-packages\\pandas\\core\\internals\\managers.py\u001b[0m in \u001b[0;36mconstruction_error\u001b[1;34m(tot_items, block_shape, axes, e)\u001b[0m\n\u001b[0;32m   1689\u001b[0m         \u001b[1;32mraise\u001b[0m \u001b[0mValueError\u001b[0m\u001b[1;33m(\u001b[0m\u001b[1;34m\"Empty data passed with indices specified.\"\u001b[0m\u001b[1;33m)\u001b[0m\u001b[1;33m\u001b[0m\u001b[1;33m\u001b[0m\u001b[0m\n\u001b[0;32m   1690\u001b[0m     raise ValueError(\"Shape of passed values is {0}, indices imply {1}\".format(\n\u001b[1;32m-> 1691\u001b[1;33m         passed, implied))\n\u001b[0m\u001b[0;32m   1692\u001b[0m \u001b[1;33m\u001b[0m\u001b[0m\n\u001b[0;32m   1693\u001b[0m \u001b[1;33m\u001b[0m\u001b[0m\n",
      "\u001b[1;31mValueError\u001b[0m: Shape of passed values is (5, 1), indices imply (10, 4)"
     ]
    }
   ],
   "source": [
    "a2=pd.DataFrame(pd.date_range('20190601',periods=5),index=dates,columns=list('ABCD'))\n",
    "print(a2)"
   ]
  },
  {
   "cell_type": "code",
   "execution_count": 18,
   "metadata": {},
   "outputs": [
    {
     "name": "stdout",
     "output_type": "stream",
     "text": [
      "     A          B    C  D      E    F\n",
      "0  1.0 2019-06-01  1.0  3   test  foo\n",
      "1  1.0 2019-06-01  1.0  3  train  foo\n",
      "2  1.0 2019-06-01  1.0  3   test  foo\n",
      "3  1.0 2019-06-01  1.0  3  train  foo\n"
     ]
    }
   ],
   "source": [
    "#Creating a dict converted into series of values\n",
    "a3=pd.DataFrame({'A':1.,\n",
    "                'B':pd.Timestamp('20190601'),\n",
    "                'C':pd.Series(1,index=list(range(4)),dtype='float32'),\n",
    "                'D':np.array([3]*4,dtype='int32'),\n",
    "                'E':pd.Categorical([\"test\",\"train\",\"test\",\"train\"]),\n",
    "                'F':'foo'})\n",
    "print(a3)"
   ]
  },
  {
   "cell_type": "code",
   "execution_count": 19,
   "metadata": {},
   "outputs": [],
   "source": [
    "#Turtle is a Python feature like a drawing board\n",
    "#Lines,Squares,Star,Rect and etc\n",
    "#Turtle()--It creates and returns a new turtle object"
   ]
  },
  {
   "cell_type": "code",
   "execution_count": null,
   "metadata": {},
   "outputs": [],
   "source": [
    "#Step 1:Make all the \"turtle\" package to be imported\n",
    "import turtle as tt\n",
    "#Turtle method creates and returns the new object\n",
    "a1=tt.Turtle()\n",
    "#forward() method moves 100 pixels here\n",
    "tt.forward(100)\n",
    "#We are done\n",
    "tt.done()"
   ]
  },
  {
   "cell_type": "code",
   "execution_count": 1,
   "metadata": {},
   "outputs": [
    {
     "data": {
      "text/plain": [
       "<function turtle.mainloop()>"
      ]
     },
     "execution_count": 1,
     "metadata": {},
     "output_type": "execute_result"
    }
   ],
   "source": [
    "#Drawing a square\n",
    "import turtle as tt\n",
    "a1=tt.Turtle()\n",
    "a1.forward(150)\n",
    "a1.right(90)\n",
    "a1.forward(150)\n",
    "a1.right(90)\n",
    "a1.forward(150)\n",
    "a1.right(90)\n",
    "a1.forward(150)\n",
    "a1.right(90)\n",
    "tt.done"
   ]
  },
  {
   "cell_type": "code",
   "execution_count": 1,
   "metadata": {},
   "outputs": [
    {
     "data": {
      "text/plain": [
       "<function turtle.mainloop()>"
      ]
     },
     "execution_count": 1,
     "metadata": {},
     "output_type": "execute_result"
    }
   ],
   "source": [
    "#Draw the square\n",
    "#using backward and left\n",
    "import turtle as tt\n",
    "a1=tt.Turtle()\n",
    "a1.backward(150)\n",
    "a1.left(90)\n",
    "a1.backward(150)\n",
    "a1.left(90)\n",
    "a1.backward(150)\n",
    "a1.left(90)\n",
    "a1.backward(150)\n",
    "a1.left(90)\n",
    "tt.done"
   ]
  },
  {
   "cell_type": "code",
   "execution_count": 1,
   "metadata": {},
   "outputs": [],
   "source": [
    "#Drawing a square with looping statements\n",
    "import turtle as tt\n",
    "a1=tt.Turtle()\n",
    "for x in range(4):\n",
    "    a1.forward(150)\n",
    "    a1.right(90)\n",
    "tt.done()"
   ]
  },
  {
   "cell_type": "code",
   "execution_count": 1,
   "metadata": {},
   "outputs": [],
   "source": [
    "#Drawing a square with looping statements\n",
    "import turtle as tt\n",
    "a1=tt.Turtle()\n",
    "for x in range(4):\n",
    "    a1.backward(150)\n",
    "    a1.left(90)\n",
    "tt.done()"
   ]
  },
  {
   "cell_type": "code",
   "execution_count": 1,
   "metadata": {},
   "outputs": [],
   "source": [
    "#Drawing a star with looping statements\n",
    "import turtle as tt\n",
    "a1=tt.Turtle()\n",
    "for x in range(50):\n",
    "    a1.forward(50)\n",
    "    a1.right(144)\n",
    "tt.done()"
   ]
  },
  {
   "cell_type": "code",
   "execution_count": 1,
   "metadata": {},
   "outputs": [],
   "source": [
    "#Drawing a star with looping statements\n",
    "import turtle as tt\n",
    "a1=tt.Turtle()\n",
    "for x in range(50):\n",
    "    a1.backward(50)\n",
    "    a1.left(144)\n",
    "tt.done()"
   ]
  },
  {
   "cell_type": "code",
   "execution_count": 1,
   "metadata": {},
   "outputs": [],
   "source": [
    "#Spiraling star\n",
    "import turtle as tt\n",
    "a1=tt.Turtle()\n",
    "for i in range(40):\n",
    "    a1.forward(i*10)\n",
    "    a1.right(144)\n",
    "tt.done()"
   ]
  },
  {
   "cell_type": "code",
   "execution_count": 1,
   "metadata": {},
   "outputs": [],
   "source": [
    "import turtle as tt\n",
    "a1=tt.Turtle()\n",
    "a1.pencolor(\"blue\")\n",
    "for i in range(40):\n",
    "    a1.forward(i*10)\n",
    "    a1.right(144)\n",
    "tt.done()"
   ]
  },
  {
   "cell_type": "code",
   "execution_count": 2,
   "metadata": {},
   "outputs": [],
   "source": [
    "#change the color of pen color\n",
    "import turtle as tt\n",
    "c1=tt.Turtle()\n",
    "c1.pencolor(\"blue\")\n",
    "for i in range(50):\n",
    "    c1.forward(50)\n",
    "    c1.left(123)\n",
    "c1.pencolor(\"red\")\n",
    "for i in range(50):\n",
    "    c1.forward(100)\n",
    "    c1.left(123)\n",
    "tt.done()"
   ]
  },
  {
   "cell_type": "code",
   "execution_count": 1,
   "metadata": {},
   "outputs": [],
   "source": [
    "#A colorful hexagon\n",
    "import turtle as tt\n",
    "colors=['red','blue','orange','green','yellow','purple']\n",
    "a1=tt.Turtle()\n",
    "for x in range(360):\n",
    "    a1.pencolor(colors[x%6])\n",
    "    a1.width(x/100+1)\n",
    "    a1.forward(x)\n",
    "    a1.left(59)\n",
    "tt.done()"
   ]
  },
  {
   "cell_type": "code",
   "execution_count": 5,
   "metadata": {},
   "outputs": [],
   "source": [
    "import turtle as tt\n",
    "a1=tt.Turtle()\n",
    "colors=['red','green','yellow','orange','blue','purple']\n",
    "dot_distance=10\n",
    "width=10\n",
    "height=15\n",
    "a1.penup()\n",
    "for x in range(height):\n",
    "    a1.pencolor(colors[x%6])\n",
    "    for i in range(width):\n",
    "        a1.dot()\n",
    "        a1.forward(dot_distance)\n",
    "\n",
    "    a1.forward(dot_distance*width)\n",
    "    a1.right(90)\n",
    "    a1.forward(dot_distance)\n",
    "    a1.left(90)\n",
    "tt.done()"
   ]
  },
  {
   "cell_type": "code",
   "execution_count": 9,
   "metadata": {},
   "outputs": [],
   "source": [
    "#generatina a blue flowers\n",
    "\n",
    "from turtle import *\n",
    "import random\n",
    "for n in range(50):\n",
    "    penup()\n",
    "    goto(random.randint(-400,400),random.randint(-400,400))\n",
    "    pendown()\n",
    "    \n",
    "    red_amount=random.randint(0,30)/100.0\n",
    "    blue_amount=random.randint(50,100)/100.0\n",
    "    green_amount=random.randint(0,30)/100.0\n",
    "    \n",
    "    pencolor((red_amount,blue_amount,green_amount))\n",
    "    \n",
    "    circle_size=random.randint(10,40)\n",
    "    pensize(random.randint(4,6))\n",
    "    \n",
    "    for i in range(6):\n",
    "        circle(circle_size)\n",
    "        left(60)\n",
    "tt.done()"
   ]
  },
  {
   "cell_type": "code",
   "execution_count": 1,
   "metadata": {},
   "outputs": [
    {
     "ename": "NameError",
     "evalue": "name 'tt' is not defined",
     "output_type": "error",
     "traceback": [
      "\u001b[1;31m---------------------------------------------------------------------------\u001b[0m",
      "\u001b[1;31mNameError\u001b[0m                                 Traceback (most recent call last)",
      "\u001b[1;32m<ipython-input-1-36ec5fd0f51b>\u001b[0m in \u001b[0;36m<module>\u001b[1;34m\u001b[0m\n\u001b[0;32m     44\u001b[0m \u001b[1;33m\u001b[0m\u001b[0m\n\u001b[0;32m     45\u001b[0m \u001b[1;33m\u001b[0m\u001b[0m\n\u001b[1;32m---> 46\u001b[1;33m \u001b[0mtt\u001b[0m\u001b[1;33m.\u001b[0m\u001b[0mdone\u001b[0m\u001b[1;33m(\u001b[0m\u001b[1;33m)\u001b[0m\u001b[1;33m\u001b[0m\u001b[1;33m\u001b[0m\u001b[0m\n\u001b[0m\u001b[0;32m     47\u001b[0m \u001b[1;33m\u001b[0m\u001b[0m\n\u001b[0;32m     48\u001b[0m \u001b[1;33m\u001b[0m\u001b[0m\n",
      "\u001b[1;31mNameError\u001b[0m: name 'tt' is not defined"
     ]
    }
   ],
   "source": [
    "# symbol generation using Python\n",
    "\n",
    "from turtle import*\n",
    "def main():\n",
    "    colors=(\"orange\",\"turquoise\",\"pink\",\"yellow\",\"grey\",\"#E76F90\",\"red\",\"green\",\"purple\")\n",
    "    reset()\n",
    "    Screen()\n",
    "    up()\n",
    "    goto(-320,-195)\n",
    "    width(70)\n",
    "    for pcolor in colors:\n",
    "        color(pcolor)\n",
    "        down()\n",
    "        forward(640)\n",
    "        up()\n",
    "        backward(640)\n",
    "        left(90)\n",
    "        forward(66)\n",
    "        right(90)\n",
    "    width(55)\n",
    "    color(\"white\")\n",
    "    goto(0,-170)\n",
    "    down()\n",
    "    \n",
    "    circle(170)\n",
    "    left(90)\n",
    "    forward(340)\n",
    "    up()\n",
    "    left(180)\n",
    "    forward(170)\n",
    "    right(45)\n",
    "    down()\n",
    "    forward(170)\n",
    "    up()\n",
    "    backward(170)\n",
    "    left(90)\n",
    "    down()\n",
    "    forward(170)\n",
    "    up()\n",
    "    goto(0,300)\n",
    "if __name__==\"__main__\":\n",
    "    main()\n",
    "    mainloop()\n",
    "\n",
    "    \n",
    "tt.done()    \n",
    "\n",
    "    \n",
    "    "
   ]
  },
  {
   "cell_type": "code",
   "execution_count": null,
   "metadata": {},
   "outputs": [],
   "source": [
    "from turtle import *\n",
    "\n",
    "N=80\n",
    "\n",
    "def f(x):\n",
    "    return 3.9*x*(1-x)\n",
    "def g(x):\n",
    "    return 3.9*(x-x**2)\n",
    "def h(x):\n",
    "    return 3.9*x-3.9*x*x\n",
    "def jumpto(x,y):\n",
    "    penup()\n",
    "    goto(x,y)\n",
    "def line(x1,y1,x2,y2):\n",
    "    jumpto(x1,y1)\n",
    "    pendown()\n",
    "    jumpto(x2,y2)\n",
    "def coosys():\n",
    "    line(-1,0,N+1,0)\n",
    "    line(0,-0-1,0,1.1)\n",
    "def plot (fun,start,color):\n",
    "    pencolor(color)\n",
    "    x=start\n",
    "    jumpto(0,x)\n",
    "    pendown()\n",
    "    dot(5)\n",
    "    for i in range(N):\n",
    "        x=fun(x)\n",
    "        goto(i+1,x)\n",
    "        dot(5)\n",
    "def main():\n",
    "    reset()\n",
    "    setworldcoordinates(-1.0,-1.0,N+1,1.1)\n",
    "    speed(0)\n",
    "    hideturtle()\n",
    "    coosys()\n",
    "    plot(f,0.35,\"blue\")\n",
    "    plot(g,0.35,\"green\")\n",
    "    plot(h,0.35,\"red\")\n",
    "    for s in range(100):\n",
    "        setworldcoordinates(0.5*s,-0.1,N+1,1.1)\n",
    "    return \"Done!!\"\n",
    "if __name__==\"__main__\":\n",
    "    main()\n",
    "    mainloop()\n",
    "tt.done()"
   ]
  },
  {
   "cell_type": "code",
   "execution_count": null,
   "metadata": {},
   "outputs": [],
   "source": []
  },
  {
   "cell_type": "code",
   "execution_count": null,
   "metadata": {},
   "outputs": [],
   "source": []
  }
 ],
 "metadata": {
  "kernelspec": {
   "display_name": "Python 3",
   "language": "python",
   "name": "python3"
  },
  "language_info": {
   "codemirror_mode": {
    "name": "ipython",
    "version": 3
   },
   "file_extension": ".py",
   "mimetype": "text/x-python",
   "name": "python",
   "nbconvert_exporter": "python",
   "pygments_lexer": "ipython3",
   "version": "3.7.3"
  }
 },
 "nbformat": 4,
 "nbformat_minor": 2
}
