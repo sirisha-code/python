{
 "cells": [
  {
   "cell_type": "markdown",
   "metadata": {},
   "source": [
    "# File Handling in python\n",
    "File :- Document containing information residing on the parameter storage types-----      \n",
    "Doc,Pdf,Text,Csv Files and etc.    \n",
    "\n",
    "# File I/O: input and  output\n",
    "                          keyboard input\n",
    "                          screen as output\n",
    "                          \n",
    "                          \n",
    "                          Read/Write\n",
    "                          \n",
    "                          open()- open the file\n",
    "                          close()--close the file\n",
    "                          \n",
    "             open(filename,\"Mode of the file\")\n",
    "             \n",
    "             \n",
    "             \n",
    "  \"r\"---Its opens the file for reading             \n",
    "  \"w\"-- The mode open the file writing          \n",
    "           **If the file name is not present,it create a new file and write some data into it   \n",
    "           data will be over written    \n",
    "   \"a\"--append mode also creates the file if the file mode not exists    \n"
   ]
  },
  {
   "cell_type": "code",
   "execution_count": 3,
   "metadata": {},
   "outputs": [
    {
     "name": "stdout",
     "output_type": "stream",
     "text": [
      "file is created successfully and data is written\n"
     ]
    }
   ],
   "source": [
    "# Function to create a file and write some data\n",
    "def createfile(filename):\n",
    "    f=open(filename,\"w\")\n",
    "    for i in range(10):\n",
    "        f.write(\"This is %d lines\\n\" % i)\n",
    "    print(\"file is created successfully and data is written\")\n",
    "    f.close()\n",
    "    return\n",
    "createfile(\"file1.txt\")\n"
   ]
  },
  {
   "cell_type": "code",
   "execution_count": 4,
   "metadata": {},
   "outputs": [
    {
     "name": "stdout",
     "output_type": "stream",
     "text": [
      "This is 0 lines\n",
      "This is 1 lines\n",
      "This is 2 lines\n",
      "This is 3 lines\n",
      "This is 4 lines\n",
      "This is 5 lines\n",
      "This is 6 lines\n",
      "This is 7 lines\n",
      "This is 8 lines\n",
      "This is 9 lines\n",
      "\n"
     ]
    }
   ],
   "source": [
    "#function for reading the file data\n",
    "def readfile(filename):\n",
    "    f=open(filename,\"r\")\n",
    "    if f.mode==\"r\":\n",
    "        x=f.read()\n",
    "        print(x)\n",
    "    f.close()\n",
    "    return\n",
    "readfile(\"file1.txt\")"
   ]
  },
  {
   "cell_type": "code",
   "execution_count": 5,
   "metadata": {},
   "outputs": [
    {
     "name": "stdout",
     "output_type": "stream",
     "text": [
      "file is created successfully and data is written\n"
     ]
    }
   ],
   "source": [
    "def createfile(filename):\n",
    "    f=open(filename,\"w\")\n",
    "    for i in range(10):\n",
    "        f.write(\"Test %d line\\n\" % i)\n",
    "    print(\"file is created successfully and data is written\")\n",
    "    f.close()\n",
    "    return\n",
    "createfile(\"file1.txt\")"
   ]
  },
  {
   "cell_type": "code",
   "execution_count": 6,
   "metadata": {},
   "outputs": [
    {
     "name": "stdout",
     "output_type": "stream",
     "text": [
      " Volume in drive C has no label.\n",
      " Volume Serial Number is E6D2-815C\n",
      "\n",
      " Directory of C:\\Users\\mech lab\\python\n",
      "\n",
      "27-06-2019  12:08    <DIR>          .\n",
      "27-06-2019  12:08    <DIR>          ..\n",
      "27-06-2019  09:32    <DIR>          .ipynb_checkpoints\n",
      "21-06-2019  10:26             5,176 23-06-2019.ipynb\n",
      "21-06-2019  17:38             2,564 all arithmetic operations(day 5).ipynb\n",
      "27-06-2019  12:08             7,727 Day 10(27-06-2019).ipynb\n",
      "25-06-2019  09:26            18,456 Day 7(24-06-2019).ipynb\n",
      "26-06-2019  09:13            14,014 Day 8(25-06-2019).ipynb\n",
      "26-06-2019  17:19            30,093 Day 9(26-06-2019).ipynb\n",
      "22-06-2019  11:50             5,582 Day-5(21-06-19).ipynb\n",
      "21-06-2019  16:45            11,944 Day-6 (22-06-19).ipynb\n",
      "27-06-2019  12:10               130 file1.txt\n",
      "21-06-2019  16:15               800 hello(Day 5).ipynb\n",
      "21-06-2019  17:39                72 relational operators(day 5).ipynb\n",
      "              11 File(s)         96,558 bytes\n",
      "               3 Dir(s)  84,978,626,560 bytes free\n"
     ]
    }
   ],
   "source": [
    "ls"
   ]
  },
  {
   "cell_type": "code",
   "execution_count": 7,
   "metadata": {},
   "outputs": [],
   "source": [
    "#Data to append\n",
    "#Functions to append the data to existng file\n",
    "def appenddata(filename):\n",
    "    f=open(filename,\"a\")\n",
    "    f.write(\"new line 1\\n\")\n",
    "    f.write(\"new line 2\\n\")\n",
    "    f.close()\n",
    "    return\n",
    "appenddata(\"file1.txt\")"
   ]
  },
  {
   "cell_type": "code",
   "execution_count": 8,
   "metadata": {},
   "outputs": [
    {
     "name": "stdout",
     "output_type": "stream",
     "text": [
      "0\n"
     ]
    }
   ],
   "source": [
    "#word count using file I/O Python\n",
    "def dataanalysisofwordcount(filename,word):\n",
    "    f=open(filename,\"r\")\n",
    "    if f.mode==\"r\":\n",
    "        x=f.read()\n",
    "        lst=x.split()\n",
    "    cnt=lst.count(word)\n",
    "    return cnt\n",
    "print(dataanalysisofwordcount(\"file1.txt\",\"rest\"))"
   ]
  },
  {
   "cell_type": "code",
   "execution_count": 9,
   "metadata": {},
   "outputs": [
    {
     "name": "stdout",
     "output_type": "stream",
     "text": [
      "12\n"
     ]
    }
   ],
   "source": [
    "def dataanalysisofwordcount(filename,word):\n",
    "    f=open(filename,\"r\")\n",
    "    if f.mode==\"r\":\n",
    "        x=f.read()\n",
    "        lst=x.split()\n",
    "    cnt=lst.count(word)\n",
    "    return cnt\n",
    "print(dataanalysisofwordcount(\"file1.txt\",\"line\"))"
   ]
  },
  {
   "cell_type": "code",
   "execution_count": 10,
   "metadata": {},
   "outputs": [
    {
     "name": "stdout",
     "output_type": "stream",
     "text": [
      "142\n"
     ]
    }
   ],
   "source": [
    "#Function to count of characters in the file\n",
    "def countcharacter(filename):\n",
    "        f=open(filename,\"r\")\n",
    "        if f.mode==\"r\":\n",
    "            x=f.read()\n",
    "            lst=list(x)\n",
    "        return len(lst)\n",
    "print(countcharacter(\"file1.txt\"))"
   ]
  },
  {
   "cell_type": "code",
   "execution_count": 11,
   "metadata": {},
   "outputs": [
    {
     "name": "stdout",
     "output_type": "stream",
     "text": [
      "10\n"
     ]
    }
   ],
   "source": [
    "#Function to count the upper case character from the given file\n",
    "def countCharacter(filename):\n",
    "    c=0\n",
    "    f=open(filename,\"r\")\n",
    "    if f.mode=='r':\n",
    "        x=f.read()\n",
    "        lst=list(x)\n",
    "        for i in lst:\n",
    "            if(i.isupper()):\n",
    "                c=c+1;\n",
    "    return c\n",
    "print(countCharacter(\"file1.txt\"))"
   ]
  },
  {
   "cell_type": "code",
   "execution_count": 12,
   "metadata": {},
   "outputs": [
    {
     "name": "stdout",
     "output_type": "stream",
     "text": [
      "Enter file name: file1.txt\n",
      "Number of lines:\n",
      "12\n"
     ]
    }
   ],
   "source": [
    "#Function to count of lines in given file\n",
    "fname = input(\"Enter file name: \")\n",
    "num_lines = 0\n",
    "with open(fname, 'r') as f:\n",
    "    for line in f:\n",
    "        num_lines += 1\n",
    "print(\"Number of lines:\")\n",
    "print(num_lines)"
   ]
  },
  {
   "cell_type": "code",
   "execution_count": 14,
   "metadata": {},
   "outputs": [
    {
     "data": {
      "text/plain": [
       "13"
      ]
     },
     "execution_count": 14,
     "metadata": {},
     "output_type": "execute_result"
    }
   ],
   "source": [
    "#Function to count of lines in given file\n",
    "def countlines(filename):\n",
    "        f=open(filename,\"r\")\n",
    "        if f.mode=='r':\n",
    "            x=f.read()\n",
    "            lst=x.split(\"\\n\")\n",
    "        return len(lst)\n",
    "countlines(\"file1.txt\")"
   ]
  },
  {
   "cell_type": "code",
   "execution_count": 15,
   "metadata": {},
   "outputs": [
    {
     "ename": "SyntaxError",
     "evalue": "invalid syntax (<ipython-input-15-378d0075790e>, line 1)",
     "output_type": "error",
     "traceback": [
      "\u001b[1;36m  File \u001b[1;32m\"<ipython-input-15-378d0075790e>\"\u001b[1;36m, line \u001b[1;32m1\u001b[0m\n\u001b[1;33m    sudo nano file.txt\u001b[0m\n\u001b[1;37m            ^\u001b[0m\n\u001b[1;31mSyntaxError\u001b[0m\u001b[1;31m:\u001b[0m invalid syntax\n"
     ]
    }
   ],
   "source": [
    "sudo nano file.txt"
   ]
  },
  {
   "cell_type": "raw",
   "metadata": {},
   "source": [
    "# Regular Expressions\n",
    "1.pattern matching    \n",
    "2.Symbolic notation of pattern    \n",
    "   Pattern(RE)-represents the set of the values that a given     \n",
    "  [0-9]--any digit   \n",
    "  [a-z]--any lower case character   \n",
    "  [A-Z]--any upper case character    \n",
    "  [2468]--any single digit nultiple of 2   \n",
    "  [0-9](1)$-->only single digit number   \n",
    "     \n",
    "    cap symbol is used for regular expression      \n",
    "    Dollar symbol is used end of regular expressions     \n",
    " ^[0-9](3)$-->regular expressions will accept only three digit number                                     \n",
    " ^[a-z](5)$-->it only accept the 5 character string that to lower case characters   \n",
    " ^[a-zA-Z](6)$-->A string can be of upper/lower case characters and len of 6    \n",
    " ^[a-zA-Z](6-15)$-->a string min of 6 characters and max of 6 characters and                         max of 15 characters (upper and lower case digits) \n",
    " ++^[a-zA-z0-9]{6-15}$--->upper, lower and digit\n",
    " ^[6-9][0-9]{9}$--RE for Indian Mobile Number   \n",
    " [+][9][1][6-9][0-9]{9}$--RE for Indian Mobile Number\n",
    " EmailID Validation:Username@DomainName.extension    \n",
    " Username:\n",
    "          *Length will be:[6-15]\n",
    "          *No spl chars apart from_\n",
    "          *Should not begin and end with_\n",
    "          *Character set:All digits and lower case alphabets _\n",
    " Domainname:\n",
    "           *Length of domain:[3,18]\n",
    "           *No spl characters\n",
    "           *Character set :all digits and lower case alphabets\n",
    " Extension:\n",
    "           *Length of extension:[2,4]\n",
    "           *No spl characters\n",
    "           *character set:Lower case characters\n",
    " Regular Expression EmailID:\n",
    "        ^[0-9a-z][0-9a-z_.]{5,14}[0-9a-z][@][a-z0-9]{3,18}[.][a-z]{2,4}$\n",
    "        **^[a]....[z]$-->Any string of length 5 start char is 'a' and end char will be 'z'\n",
    "        **^[a].*[z]$-->Any string of any length that starts from 'a' and ends at 'z'\n",
    "        "
   ]
  },
  {
   "cell_type": "code",
   "execution_count": 16,
   "metadata": {},
   "outputs": [],
   "source": [
    "# Regular Expression for Indian Mobile Number\n",
    "# Validation for EmailID Username@DomainName.extension\n",
    "#9876543210--First digit [6-9][0-9]\n",
    "#09876543210--First digit zero second digit [6-9] last 9 digits[0-9]\n",
    "#+919876543210--First+ sign, second digit 9,third digit 1     \n",
    "                #fourth digit [6-9] rest of 9 digit [0-9]"
   ]
  },
  {
   "cell_type": "code",
   "execution_count": 22,
   "metadata": {},
   "outputs": [
    {
     "name": "stdout",
     "output_type": "stream",
     "text": [
      "True\n",
      "False\n",
      "False\n"
     ]
    }
   ],
   "source": [
    "import re\n",
    "def phoneNumberValidate(phone):\n",
    "    pattern='^[6-9][0-9]{9}$|^[0][6-9][0-9]{9}$|[+][9][1][6-9][0-9]{9}$'\n",
    "    phone=str(phone)\n",
    "    if re.match(pattern,phone):\n",
    "        return True\n",
    "    return False\n",
    "print(phoneNumberValidate(9966338855))\n",
    "print(phoneNumberValidate(99668855))\n",
    "print(phoneNumberValidate(+919988774455))"
   ]
  },
  {
   "cell_type": "code",
   "execution_count": 24,
   "metadata": {},
   "outputs": [
    {
     "name": "stdout",
     "output_type": "stream",
     "text": [
      "True\n",
      "True\n",
      "True\n"
     ]
    }
   ],
   "source": [
    "import re\n",
    "def phoneNumberValidate(phone):\n",
    "    pattern='^[6-9][0-9]{9}$|^[0][6-9][0-9]{9}$|[+][9][1][6-9][0-9]{9}$'\n",
    "    phone=str(phone)\n",
    "    if re.match(pattern,phone):\n",
    "        return True\n",
    "    return False\n",
    "print(phoneNumberValidate(\"9899668855\"))\n",
    "print(phoneNumberValidate(\"09899668855\"))\n",
    "print(phoneNumberValidate(\"+919899668855\"))"
   ]
  },
  {
   "cell_type": "code",
   "execution_count": 25,
   "metadata": {},
   "outputs": [],
   "source": [
    "#RE--Validation of Roll Number\n",
    "###152U1A0501"
   ]
  },
  {
   "cell_type": "code",
   "execution_count": 28,
   "metadata": {},
   "outputs": [
    {
     "name": "stdout",
     "output_type": "stream",
     "text": [
      "True\n",
      "False\n"
     ]
    }
   ],
   "source": [
    "import re\n",
    "def validateRollNumber(number):\n",
    "    number=str(number)\n",
    "    pattern= \"^[1][5][2][U][1][A][0][1-9][0-6][0-9]$\";\n",
    "    if re.match(pattern,number):\n",
    "        return True\n",
    "    return False\n",
    "print( validateRollNumber(\"152U1A0555\"))\n",
    "print( validateRollNumber(\"152U1A0485\"))"
   ]
  },
  {
   "cell_type": "code",
   "execution_count": 39,
   "metadata": {},
   "outputs": [
    {
     "name": "stdout",
     "output_type": "stream",
     "text": [
      "True\n",
      "False\n"
     ]
    }
   ],
   "source": [
    "# Validation for EmailID Username@DomainName.extension\n",
    "def validateEmailID(email):\n",
    "    pattern=\"^[0-9a-z][0-9a-z_.]{5,14}[0-9a-z][@][a-z0-9]{3,18}[.][a-z]{2,4}$\"\n",
    "    if re.match(pattern,email):\n",
    "        return True\n",
    "    return False\n",
    "print(validateEmailID(\"anil.1889@gmail.com\"))\n",
    "print(validateEmailID(\"$anil.1889@gmail.com\"))"
   ]
  },
  {
   "cell_type": "code",
   "execution_count": null,
   "metadata": {},
   "outputs": [],
   "source": [
    "#Regular Expression--Password\n",
    "#Parameters:[6-15]\n",
    "#Accept lower case, uppercase, spl symbols(@,$,#,!)"
   ]
  },
  {
   "cell_type": "code",
   "execution_count": 40,
   "metadata": {},
   "outputs": [
    {
     "name": "stdout",
     "output_type": "stream",
     "text": [
      "False\n",
      "False\n"
     ]
    }
   ],
   "source": [
    "#expression for password\n",
    "#'^[6-15][@][#][!]'\n",
    "import re\n",
    "def validatepass(password):\n",
    "    pattern='^[A-Za-z0-9@#!]{6-15}$'\n",
    "    if re.match(pattern,password):\n",
    "        return True\n",
    "    return False \n",
    "print(validatepass('s123@#!'))\n",
    "print(validatepass('sahi1233AS123@'))"
   ]
  },
  {
   "cell_type": "markdown",
   "metadata": {},
   "source": [
    "# Assignment\n",
    "1.File on the virtual machine or local machine           \n",
    "2.Need to write the data to the time              \n",
    "3.Need to return the count of lower case characters              \n",
    "4.Need to return the count of digits              \n",
    "5.Need to return the count of spl characers              \n",
    "6.Need to create a file which these parameters name,EmailID,         \n",
    "Mobile number   \n",
    "Validate the EmailID   \n",
    "Validate the Mobile Number"
   ]
  },
  {
   "cell_type": "code",
   "execution_count": 42,
   "metadata": {},
   "outputs": [
    {
     "name": "stdout",
     "output_type": "stream",
     "text": [
      "file is created successfully and data is written\n"
     ]
    }
   ],
   "source": [
    "# Function to create a file and write some data\n",
    "def createfile(filename):\n",
    "    f=open(filename,\"w\")\n",
    "    for i in range(5):\n",
    "        f.write(\"This is %d lines\\n\" % i)\n",
    "    print(\"file is created successfully and data is written\")\n",
    "    f.close()\n",
    "    return\n",
    "createfile(\"file2.txt\")"
   ]
  },
  {
   "cell_type": "code",
   "execution_count": 50,
   "metadata": {},
   "outputs": [
    {
     "name": "stdout",
     "output_type": "stream",
     "text": [
      "50\n"
     ]
    }
   ],
   "source": [
    "#Function to count the lower case character from the given file\n",
    "def countCharacter(filename):\n",
    "    c=0\n",
    "    f=open(filename,\"r\")\n",
    "    if f.mode=='r':\n",
    "        x=f.read()\n",
    "        lst=list(x)\n",
    "        for i in lst:\n",
    "            if(i.islower()):\n",
    "                c=c+1;\n",
    "    return c\n",
    "print(countCharacter(\"file2.txt\"))"
   ]
  },
  {
   "cell_type": "code",
   "execution_count": 51,
   "metadata": {},
   "outputs": [
    {
     "name": "stdout",
     "output_type": "stream",
     "text": [
      "5\n"
     ]
    }
   ],
   "source": [
    "#Need to return the count of digits              \n",
    "def countCharacter(filename):\n",
    "    c=0\n",
    "    f=open(filename,\"r\")\n",
    "    if f.mode=='r':\n",
    "        x=f.read()\n",
    "        lst=list(x)\n",
    "        for i in lst:\n",
    "            if(i.isdecimal()):\n",
    "                c=c+1;\n",
    "    return c\n",
    "print(countCharacter(\"file2.txt\"))"
   ]
  },
  {
   "cell_type": "code",
   "execution_count": 52,
   "metadata": {},
   "outputs": [
    {
     "name": "stdout",
     "output_type": "stream",
     "text": [
      "20\n"
     ]
    }
   ],
   "source": [
    "#Need to return the count of spl characers\n",
    "def countCharacter(filename):\n",
    "    c=0\n",
    "    low=0\n",
    "    up=0\n",
    "    dec=0\n",
    "    f=open(filename,\"r\")\n",
    "    if f.mode=='r':\n",
    "        x=f.read()\n",
    "        lst=list(x)\n",
    "        for i in lst:\n",
    "            if i.islower():\n",
    "                low=low+1;\n",
    "            elif i.isupper():\n",
    "                up=up+1\n",
    "            elif i.isdecimal():\n",
    "                dec=dec+1\n",
    "          \n",
    "            else:\n",
    "                c=c+1 # here \\n is considered as special character\n",
    "    return c\n",
    "print(countCharacter(\"file2.txt\"))"
   ]
  },
  {
   "cell_type": "code",
   "execution_count": 55,
   "metadata": {},
   "outputs": [
    {
     "name": "stdout",
     "output_type": "stream",
     "text": [
      "File is created and Data is written\n",
      "True\n",
      "True\n",
      "True\n",
      "False\n"
     ]
    }
   ],
   "source": [
    "#Need to create a file which these parameters name,EmailID,Mobile number,Validate the EmailID,Validate the Mobile Number\n",
    "import re\n",
    "def phoneNumberVariable(phone):\n",
    "    pattern='^[6-9][0-9]{9}$|^[0][6-9][0-9]{9}$|^[+][9][1][6-9][0-9]{9}$'\n",
    "    phone=str(phone)\n",
    "    if re.match(pattern,phone):\n",
    "        return True\n",
    "    return False\n",
    "def createFile(filename):\n",
    "    f=open(filename,\"w\")\n",
    "    f.write(\"name: Sai Sirisha\")\n",
    "    f.write(\"emailID:sirisha18.com\")\n",
    "    f.write(\"Mobile number: 2345678901\")\n",
    "    print(\"File is created and Data is written\")\n",
    "    f.close()    \n",
    "    return\n",
    "createFile(\"file2.txt\")\n",
    "\n",
    "\n",
    "# Validation for EmailID Username@DomainName.extension\n",
    "def validateEmailID(email):\n",
    "    pattern=\"^[0-9a-z][0-9a-z_.]{5,14}[0-9a-z][@][a-z0-9]{3,18}[.][a-z]{2,4}$\"\n",
    "    if re.match(pattern,email):\n",
    "        return True\n",
    "    return False\n",
    "\n",
    "\n",
    "\n",
    "print(phoneNumberVariable(\"+917032653823\"))\n",
    "print(phoneNumberVariable(\"08712345674\"))\n",
    "print(phoneNumberVariable(\"8712345674\"))\n",
    "\n",
    "print(validateEmailID(\"sirisha18.com\"))\n",
    "\n"
   ]
  },
  {
   "cell_type": "code",
   "execution_count": null,
   "metadata": {},
   "outputs": [],
   "source": []
  }
 ],
 "metadata": {
  "kernelspec": {
   "display_name": "Python 3",
   "language": "python",
   "name": "python3"
  },
  "language_info": {
   "codemirror_mode": {
    "name": "ipython",
    "version": 3
   },
   "file_extension": ".py",
   "mimetype": "text/x-python",
   "name": "python",
   "nbconvert_exporter": "python",
   "pygments_lexer": "ipython3",
   "version": "3.7.3"
  }
 },
 "nbformat": 4,
 "nbformat_minor": 2
}
