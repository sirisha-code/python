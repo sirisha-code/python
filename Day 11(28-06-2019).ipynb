{
 "cells": [
  {
   "cell_type": "markdown",
   "metadata": {},
   "source": [
    "# Introduction to OOP in Python\n",
    " one of the popular approach to solve a programming probleb by creating an objects. This is known as Object Oriented Programming.     \n",
    "An object has two characterstics:    \n",
    "1.attributes(name,age,colour)   \n",
    "2.behaviour(learn,study,singing,dance)   \n",
    "\n",
    "In Python, the concept OOP follow these things:   \n",
    "\n",
    "1.Inheritance  \n",
    "2.Encapsulation  #wrapping data into single unit    \n",
    "3.Ploymorphism  \n",
    " \n",
    "Class:  \n",
    "A class is blueprint of the object or logical entity   \n",
    "\n",
    "Object:  \n",
    "Blueprint of class or Instance of the class or physical entity  \n",
    "\n",
    "Methods:   \n",
    "Part of class and can be called with object   \n",
    "\n",
    "Constructors: \n",
    "Part of class and can be called aotomatically when the obj of class is created\n"
   ]
  },
  {
   "cell_type": "code",
   "execution_count": null,
   "metadata": {},
   "outputs": [],
   "source": [
    "class ClassName:\n",
    "    #some functions and variables\n",
    "    #function--used to perform the specific activity\n",
    "    #variables--Data(memory)"
   ]
  },
  {
   "cell_type": "code",
   "execution_count": 4,
   "metadata": {},
   "outputs": [
    {
     "name": "stdout",
     "output_type": "stream",
     "text": [
      "Test() for function\n"
     ]
    }
   ],
   "source": [
    "def test():\n",
    "    print('Test() for function')\n",
    "    return\n",
    "test()"
   ]
  },
  {
   "cell_type": "code",
   "execution_count": 5,
   "metadata": {},
   "outputs": [
    {
     "name": "stdout",
     "output_type": "stream",
     "text": [
      "test() for the class and method\n"
     ]
    }
   ],
   "source": [
    "class Demo:\n",
    "    def test(self):\n",
    "        print(\"test() for the class and method\")\n",
    "        return\n",
    "\n",
    "obj=Demo()  #object creation\n",
    "obj.test() #call for the method"
   ]
  },
  {
   "cell_type": "code",
   "execution_count": 8,
   "metadata": {},
   "outputs": [
    {
     "data": {
      "text/plain": [
       "120"
      ]
     },
     "execution_count": 8,
     "metadata": {},
     "output_type": "execute_result"
    }
   ],
   "source": [
    "class Demo1:\n",
    "    def fact(self,n):\n",
    "        #return the factorial\n",
    "        fact=1\n",
    "        while(n!=0):\n",
    "            fact=fact*n\n",
    "            n=n-1\n",
    "        return fact\n",
    "p1=Demo1()\n",
    "p1.fact(5)#120"
   ]
  },
  {
   "cell_type": "code",
   "execution_count": null,
   "metadata": {},
   "outputs": [],
   "source": [
    "#Method\n",
    "# def test(self,para1,para2)"
   ]
  },
  {
   "cell_type": "code",
   "execution_count": 14,
   "metadata": {},
   "outputs": [
    {
     "ename": "AttributeError",
     "evalue": "'Demo2' object has no attribute 'accept'",
     "output_type": "error",
     "traceback": [
      "\u001b[1;31m---------------------------------------------------------------------------\u001b[0m",
      "\u001b[1;31mAttributeError\u001b[0m                            Traceback (most recent call last)",
      "\u001b[1;32m<ipython-input-14-a132bd3898db>\u001b[0m in \u001b[0;36m<module>\u001b[1;34m\u001b[0m\n\u001b[0;32m     10\u001b[0m         \u001b[0mprint\u001b[0m\u001b[1;33m(\u001b[0m\u001b[1;34m\"p2=\"\u001b[0m\u001b[1;33m,\u001b[0m\u001b[0mp2\u001b[0m\u001b[1;33m)\u001b[0m\u001b[1;33m\u001b[0m\u001b[1;33m\u001b[0m\u001b[0m\n\u001b[0;32m     11\u001b[0m \u001b[0mc1\u001b[0m\u001b[1;33m=\u001b[0m\u001b[0mDemo2\u001b[0m\u001b[1;33m(\u001b[0m\u001b[1;33m)\u001b[0m\u001b[1;33m\u001b[0m\u001b[1;33m\u001b[0m\u001b[0m\n\u001b[1;32m---> 12\u001b[1;33m \u001b[0mc1\u001b[0m\u001b[1;33m.\u001b[0m\u001b[0maccept\u001b[0m\u001b[1;33m(\u001b[0m\u001b[1;36m10\u001b[0m\u001b[1;33m,\u001b[0m\u001b[1;36m20\u001b[0m\u001b[1;33m)\u001b[0m\u001b[1;33m\u001b[0m\u001b[1;33m\u001b[0m\u001b[0m\n\u001b[0m\u001b[0;32m     13\u001b[0m \u001b[0mc1\u001b[0m\u001b[1;33m.\u001b[0m\u001b[0mdisplay\u001b[0m\u001b[1;33m(\u001b[0m\u001b[1;33m)\u001b[0m\u001b[1;33m\u001b[0m\u001b[1;33m\u001b[0m\u001b[0m\n",
      "\u001b[1;31mAttributeError\u001b[0m: 'Demo2' object has no attribute 'accept'"
     ]
    }
   ],
   "source": [
    "class Demo2:\n",
    "    def Accept(self,p1,p2):\n",
    "        self.p1=p1\n",
    "        self.p2=p2\n",
    "        a=p1\n",
    "        b=p2\n",
    "        return\n",
    "    def display(self):\n",
    "        print(\"p1=\",p1)\n",
    "        print(\"p2=\",p2)\n",
    "c1=Demo2()\n",
    "c1.accept(10,20)\n",
    "c1.display()"
   ]
  },
  {
   "cell_type": "code",
   "execution_count": 13,
   "metadata": {},
   "outputs": [
    {
     "name": "stdout",
     "output_type": "stream",
     "text": [
      "300\n"
     ]
    }
   ],
   "source": [
    "class Demo2:\n",
    "    def __init__(self,p1,p2):\n",
    "        self.p1=p1\n",
    "        self.p2=p2\n",
    "    def add(self,p1,p2):\n",
    "        return p1+p2\n",
    "c1=Demo2(10,20)\n",
    "print(c1.add(100,200))"
   ]
  },
  {
   "cell_type": "code",
   "execution_count": 15,
   "metadata": {},
   "outputs": [
    {
     "name": "stdout",
     "output_type": "stream",
     "text": [
      "[1 2 3 4]\n"
     ]
    }
   ],
   "source": [
    "import numpy as np\n",
    "lst=[1,2,3,4]\n",
    "array=np.array(lst)\n",
    "print(array)"
   ]
  },
  {
   "cell_type": "code",
   "execution_count": 24,
   "metadata": {},
   "outputs": [
    {
     "name": "stdout",
     "output_type": "stream",
     "text": [
      "(4,)\n",
      "int32\n"
     ]
    }
   ],
   "source": [
    "lst=[1,2,3,4]\n",
    "array=np.array(lst)\n",
    "print(array.shape)\n",
    "print(array.dtype)"
   ]
  },
  {
   "cell_type": "code",
   "execution_count": 29,
   "metadata": {},
   "outputs": [
    {
     "name": "stdout",
     "output_type": "stream",
     "text": [
      "(4,)\n",
      "float64\n"
     ]
    }
   ],
   "source": [
    "lst=[1.0,2.4,3.6,9.5]\n",
    "array=np.array(lst)\n",
    "print(array.shape)\n",
    "print(array.dtype)"
   ]
  },
  {
   "cell_type": "code",
   "execution_count": 40,
   "metadata": {},
   "outputs": [
    {
     "name": "stdout",
     "output_type": "stream",
     "text": [
      "(2, 3)\n"
     ]
    }
   ],
   "source": [
    "a1=np.array([(1,2,3),(4,5,6)])\n",
    "print(a1.shape)\n"
   ]
  },
  {
   "cell_type": "code",
   "execution_count": 22,
   "metadata": {},
   "outputs": [
    {
     "name": "stdout",
     "output_type": "stream",
     "text": [
      "[[1 2 3]\n",
      " [4 5 6]]\n"
     ]
    },
    {
     "data": {
      "text/plain": [
       "array([[1, 2],\n",
       "       [3, 4],\n",
       "       [5, 6]])"
      ]
     },
     "execution_count": 22,
     "metadata": {},
     "output_type": "execute_result"
    }
   ],
   "source": [
    "#Re-shape the given array\n",
    "#numpy.reshape(arrayName,reshape,order='C')\n",
    "a1=np.array([(1,2,3),(4,5,6)])\n",
    "print(a1)\n",
    "a1.reshape(3,2)"
   ]
  },
  {
   "cell_type": "code",
   "execution_count": 31,
   "metadata": {},
   "outputs": [
    {
     "name": "stdout",
     "output_type": "stream",
     "text": [
      "[1 2 3 4 5 6]\n"
     ]
    }
   ],
   "source": [
    "#append some data--horizontally\n",
    "#hstack(array1,array2)--will be automatically arranged in horizontal\n",
    "a1=np.array([1,2,3])\n",
    "a2=np.array([4,5,6])\n",
    "print(np.hstack((a1,a2)))"
   ]
  },
  {
   "cell_type": "code",
   "execution_count": 32,
   "metadata": {},
   "outputs": [
    {
     "name": "stdout",
     "output_type": "stream",
     "text": [
      "[[1 2 3]\n",
      " [4 5 6]]\n"
     ]
    }
   ],
   "source": [
    "#append some data--verlically\n",
    "#vstack(array1,array2)--will be automatically arranged in vertical\n",
    "a1=np.array([1,2,3])\n",
    "a2=np.array([4,5,6])\n",
    "print(np.vstack((a1,a2)))"
   ]
  },
  {
   "cell_type": "code",
   "execution_count": 33,
   "metadata": {},
   "outputs": [
    {
     "name": "stdout",
     "output_type": "stream",
     "text": [
      "[5.76290142 4.8477032  4.53554613 5.85001176 5.13109601 5.59706925\n",
      " 6.11070675 4.27858796 3.69732172 3.9371804 ]\n"
     ]
    }
   ],
   "source": [
    "#Generate random number from NP\n",
    "a1=np.random.normal(5,0.5,10)\n",
    "print(a1)"
   ]
  },
  {
   "cell_type": "code",
   "execution_count": 35,
   "metadata": {},
   "outputs": [
    {
     "data": {
      "text/plain": [
       "array([[0., 0.],\n",
       "       [0., 0.]])"
      ]
     },
     "execution_count": 35,
     "metadata": {},
     "output_type": "execute_result"
    }
   ],
   "source": [
    "#numpy.zeros() and numpy.one()\n",
    "#Generate an array with all zeroes--numpy.zeros()\n",
    "#numpy.zeroes(shape,dtype=float,order='C')\n",
    "\n",
    "np.zeros((2,2))\n"
   ]
  },
  {
   "cell_type": "code",
   "execution_count": 38,
   "metadata": {},
   "outputs": [
    {
     "data": {
      "text/plain": [
       "array([[0, 0],\n",
       "       [0, 0]])"
      ]
     },
     "execution_count": 38,
     "metadata": {},
     "output_type": "execute_result"
    }
   ],
   "source": [
    "np.zeros((2,2),dtype=np.int32)"
   ]
  },
  {
   "cell_type": "code",
   "execution_count": 39,
   "metadata": {},
   "outputs": [
    {
     "data": {
      "text/plain": [
       "array([[1, 1, 1],\n",
       "       [1, 1, 1],\n",
       "       [1, 1, 1],\n",
       "       [1, 1, 1]])"
      ]
     },
     "execution_count": 39,
     "metadata": {},
     "output_type": "execute_result"
    }
   ],
   "source": [
    "#np.ones(shape,dtype=float,order='C')\n",
    "np.ones((4,3),dtype=np.int32)"
   ]
  },
  {
   "cell_type": "code",
   "execution_count": 42,
   "metadata": {},
   "outputs": [
    {
     "name": "stdout",
     "output_type": "stream",
     "text": [
      "[[1 1 1 1]\n",
      " [1 1 1 1]\n",
      " [1 1 1 1]\n",
      " [1 1 1 1]]\n"
     ]
    }
   ],
   "source": [
    "A=np.matrix(np.ones((4,4),dtype=np.int32))\n",
    "print(A)"
   ]
  },
  {
   "cell_type": "code",
   "execution_count": 43,
   "metadata": {},
   "outputs": [
    {
     "name": "stdout",
     "output_type": "stream",
     "text": [
      "[[1 1 1 1]\n",
      " [1 1 1 1]\n",
      " [5 5 5 5]\n",
      " [1 1 1 1]]\n"
     ]
    }
   ],
   "source": [
    "A=np.matrix(np.ones((4,4),dtype=np.int32))\n",
    "np.asarray(A)[2]=5\n",
    "print(A)"
   ]
  },
  {
   "cell_type": "code",
   "execution_count": 44,
   "metadata": {},
   "outputs": [
    {
     "name": "stdout",
     "output_type": "stream",
     "text": [
      "[[ 1  1  1  1]\n",
      " [ 1  1  1 14]\n",
      " [ 1  1  1  1]\n",
      " [ 1  1  1 16]]\n"
     ]
    }
   ],
   "source": [
    "A=np.matrix(np.ones((4,4),dtype=np.int32))\n",
    "np.asarray(A)[1][3]=14\n",
    "np.asarray(A)[3][3]=16\n",
    "print(A)"
   ]
  },
  {
   "cell_type": "code",
   "execution_count": 45,
   "metadata": {},
   "outputs": [
    {
     "data": {
      "text/plain": [
       "array([1, 2, 3, 4, 5, 6, 7, 8, 9])"
      ]
     },
     "execution_count": 45,
     "metadata": {},
     "output_type": "execute_result"
    }
   ],
   "source": [
    "#arange()--particular\n",
    "#numpy.arrange(start,end,step)\n",
    "#start-value\n",
    "#end-value\n",
    "#step-gap bet one value to another value\n",
    "import numpy as np\n",
    "np.arange(1,10)"
   ]
  },
  {
   "cell_type": "code",
   "execution_count": 46,
   "metadata": {},
   "outputs": [
    {
     "data": {
      "text/plain": [
       "array([ 1, 10, 19, 28, 37, 46, 55, 64, 73, 82, 91])"
      ]
     },
     "execution_count": 46,
     "metadata": {},
     "output_type": "execute_result"
    }
   ],
   "source": [
    "np.arange(1,100,9)"
   ]
  },
  {
   "cell_type": "code",
   "execution_count": 47,
   "metadata": {},
   "outputs": [
    {
     "data": {
      "text/plain": [
       "array([ 1,  3,  5,  7,  9, 11, 13, 15, 17, 19, 21, 23])"
      ]
     },
     "execution_count": 47,
     "metadata": {},
     "output_type": "execute_result"
    }
   ],
   "source": [
    "np.arange(2,20,2)\n",
    "np.arange(1,25,2)"
   ]
  },
  {
   "cell_type": "code",
   "execution_count": 48,
   "metadata": {},
   "outputs": [
    {
     "name": "stdout",
     "output_type": "stream",
     "text": [
      "[[1 2 3]\n",
      " [4 5 6]]\n"
     ]
    }
   ],
   "source": [
    "#Index and slicing of Numpy\n",
    "a1=np.array([(1,2,3),(4,5,6)])\n",
    "print(a1)"
   ]
  },
  {
   "cell_type": "code",
   "execution_count": 49,
   "metadata": {},
   "outputs": [
    {
     "name": "stdout",
     "output_type": "stream",
     "text": [
      "First Row: [1 2 3]\n"
     ]
    }
   ],
   "source": [
    "a1=np.array([(1,2,3),(4,5,6)])\n",
    "print(\"First Row:\",a1[0])"
   ]
  },
  {
   "cell_type": "code",
   "execution_count": 50,
   "metadata": {},
   "outputs": [
    {
     "name": "stdout",
     "output_type": "stream",
     "text": [
      "Second Row: [4 5 6]\n"
     ]
    }
   ],
   "source": [
    "a1=np.array([(1,2,3),(4,5,6)])\n",
    "print(\"Second Row:\",a1[1])"
   ]
  },
  {
   "cell_type": "code",
   "execution_count": 52,
   "metadata": {},
   "outputs": [
    {
     "name": "stdout",
     "output_type": "stream",
     "text": [
      "Slicing Column: [2 5]\n"
     ]
    }
   ],
   "source": [
    "a1=np.array([(1,2,3),(4,5,6)])\n",
    "print(\"Slicing Column:\",a1[:,1])"
   ]
  },
  {
   "cell_type": "code",
   "execution_count": 53,
   "metadata": {},
   "outputs": [
    {
     "name": "stdout",
     "output_type": "stream",
     "text": [
      "Slicing Last Column: [3 6]\n"
     ]
    }
   ],
   "source": [
    "a1=np.array([(1,2,3),(4,5,6)])\n",
    "print(\"Slicing Last Column:\",a1[:,2])"
   ]
  },
  {
   "cell_type": "code",
   "execution_count": 54,
   "metadata": {},
   "outputs": [
    {
     "name": "stdout",
     "output_type": "stream",
     "text": [
      "Row and Column [4 5]\n"
     ]
    }
   ],
   "source": [
    "a1=np.array([(1,2,3),(4,5,6)])\n",
    "print(\"Row and Column\",a1[1,:2])"
   ]
  },
  {
   "cell_type": "code",
   "execution_count": 55,
   "metadata": {},
   "outputs": [
    {
     "name": "stdout",
     "output_type": "stream",
     "text": [
      "Row and Column [4]\n"
     ]
    }
   ],
   "source": [
    "a1=np.array([(1,2,3),(4,5,6)])\n",
    "print(\"Row and Column\",a1[1,:1])"
   ]
  },
  {
   "cell_type": "code",
   "execution_count": 56,
   "metadata": {},
   "outputs": [
    {
     "name": "stdout",
     "output_type": "stream",
     "text": [
      "First row 5\n"
     ]
    }
   ],
   "source": [
    "a1=np.array([(1,2,3),(4,5,6)])\n",
    "print(\"First row\",a1[1][1])"
   ]
  },
  {
   "cell_type": "code",
   "execution_count": 57,
   "metadata": {},
   "outputs": [
    {
     "name": "stdout",
     "output_type": "stream",
     "text": [
      "[6.12871744 5.40051271 5.72960962 5.87245782 3.40175392 4.02916713\n",
      " 4.54662039 4.80462614 3.66702254 4.1274049 ]\n"
     ]
    }
   ],
   "source": [
    "a1=np.random.normal(5,1,10)\n",
    "print(a1)"
   ]
  },
  {
   "cell_type": "code",
   "execution_count": 58,
   "metadata": {},
   "outputs": [
    {
     "name": "stdout",
     "output_type": "stream",
     "text": [
      "[4.56382663 6.98533976 5.15941093 4.71991981 4.66334854 3.71038005\n",
      " 4.7995859  4.04419335 5.56261467 5.8006482 ]\n",
      "Min value= 3.710380048151011\n",
      "Max value= 6.985339761173357\n",
      "Mean value= 5.000926784726497\n",
      "Median value= 4.75975285825902\n"
     ]
    }
   ],
   "source": [
    "#Some math Operation on givrn random numbers\n",
    "#Min--returns the least number\n",
    "#Max--returns the Large number\n",
    "#Mean--Mean\n",
    "#Median--Median\n",
    "#GD--Gaussian Distribution\n",
    "a1=np.random.normal(5,1,10)\n",
    "print(a1)\n",
    "print(\"Min value=\",np.min(a1))\n",
    "print(\"Max value=\",np.max(a1))\n",
    "print(\"Mean value=\",np.mean(a1))\n",
    "print(\"Median value=\",np.median(a1))"
   ]
  },
  {
   "cell_type": "code",
   "execution_count": 59,
   "metadata": {},
   "outputs": [
    {
     "data": {
      "text/plain": [
       "14"
      ]
     },
     "execution_count": 59,
     "metadata": {},
     "output_type": "execute_result"
    }
   ],
   "source": [
    "#Multiply of 1D arrays\n",
    "#numpy.dot(x,y)--\n",
    "c1=np.array([1,2])\n",
    "c2=np.array([4,5])\n",
    "np.dot(c1,c2)"
   ]
  },
  {
   "cell_type": "code",
   "execution_count": 60,
   "metadata": {},
   "outputs": [
    {
     "data": {
      "text/plain": [
       "array([[ 5,  8],\n",
       "       [13, 20]])"
      ]
     },
     "execution_count": 60,
     "metadata": {},
     "output_type": "execute_result"
    }
   ],
   "source": [
    "c1=np.array([(1,2),(3,4)])\n",
    "c2=np.array([(3,4),(1,2)])\n",
    "np.dot(c1,c2)"
   ]
  },
  {
   "cell_type": "code",
   "execution_count": 64,
   "metadata": {},
   "outputs": [
    {
     "data": {
      "text/plain": [
       "array([[ 6, 33],\n",
       "       [15, 72]])"
      ]
     },
     "execution_count": 64,
     "metadata": {},
     "output_type": "execute_result"
    }
   ],
   "source": [
    "b1=np.array([([1,5]),([6,9])])\n",
    "b2=np.array([([1,3]),([1,6])])\n",
    "np.matmul(b1,b2)"
   ]
  },
  {
   "cell_type": "markdown",
   "metadata": {},
   "source": [
    "# Pandas Basics\n",
    " Python is one of the popular programming language for data analysis<br>    \n",
    "Python is offering the Lib called Pandas used for importing and analysing pretty much faster and easier also        \n",
    "Pandas DataFrames        \n",
    "    \n",
    "    Data Analysis with Python    \n",
    "     "
   ]
  },
  {
   "cell_type": "code",
   "execution_count": 67,
   "metadata": {},
   "outputs": [
    {
     "name": "stdout",
     "output_type": "stream",
     "text": [
      "     Name           EmailID  MobileNumber Address\n",
      "0    Anil    anil@gmail.com           999     Hyd\n",
      "1   Akhil   akhil@gmail.com           888     Hyd\n",
      "2  Dinesh  dinesh@gmail.com           777     Hyd\n",
      "3  Harsha  harsha@gmail.com           888     Hyd\n",
      "4    Ajay    ajay@gmail.com           777     Hyd\n",
      "5  Kranth  kranth@gmail.com           999     Hyd\n"
     ]
    }
   ],
   "source": [
    "import pandas as pd\n",
    "dict={\"Name\":[\"Anil\",\"Akhil\",\"Dinesh\",\"Harsha\",\"Ajay\",\"Kranth\"],\"EmailID\":[\"anil@gmail.com\",\"akhil@gmail.com\",\"dinesh@gmail.com\",\"harsha@gmail.com\",\"ajay@gmail.com\",\"kranth@gmail.com\"],\"MobileNumber\":[999,888,777,888,777,999],\"Address\":[\"Hyd\",\"Hyd\",\"Hyd\",\"Hyd\",\"Hyd\",\"Hyd\"],}\n",
    "b=pd.DataFrame(dict)\n",
    "print(b)"
   ]
  },
  {
   "cell_type": "code",
   "execution_count": 68,
   "metadata": {},
   "outputs": [
    {
     "name": "stdout",
     "output_type": "stream",
     "text": [
      "      Name           EmailID  MobileNumber Address\n",
      "01    Anil    anil@gmail.com           999     Hyd\n",
      "02   Akhil   akhil@gmail.com           888     Hyd\n",
      "03  Dinesh  dinesh@gmail.com           777     Hyd\n",
      "04  Harsha  harsha@gmail.com           888     Hyd\n",
      "05    Ajay    ajay@gmail.com           777     Hyd\n",
      "06  Kranth  kranth@gmail.com           999     Hyd\n"
     ]
    }
   ],
   "source": [
    "b.index=[\"01\",\"02\",\"03\",\"04\",\"05\",\"06\"]\n",
    "print(b)"
   ]
  },
  {
   "cell_type": "code",
   "execution_count": null,
   "metadata": {},
   "outputs": [],
   "source": [
    "#supermarket.csv-Analysis(which product having higher %of selling price)\n",
    "#which product having least selling %\n",
    "\n",
    "import pandas as pd\n",
    "products=pd.read__csv('FileName.csv')\n",
    "print(products)"
   ]
  },
  {
   "cell_type": "code",
   "execution_count": null,
   "metadata": {},
   "outputs": [],
   "source": [
    "import pandas as pd\n",
    "product_sellingData=pd.read_csv('FileName.csv',index_col=1)\n",
    "print(product_sellingData)"
   ]
  },
  {
   "cell_type": "code",
   "execution_count": null,
   "metadata": {},
   "outputs": [],
   "source": []
  }
 ],
 "metadata": {
  "kernelspec": {
   "display_name": "Python 3",
   "language": "python",
   "name": "python3"
  },
  "language_info": {
   "codemirror_mode": {
    "name": "ipython",
    "version": 3
   },
   "file_extension": ".py",
   "mimetype": "text/x-python",
   "name": "python",
   "nbconvert_exporter": "python",
   "pygments_lexer": "ipython3",
   "version": "3.7.3"
  }
 },
 "nbformat": 4,
 "nbformat_minor": 2
}
