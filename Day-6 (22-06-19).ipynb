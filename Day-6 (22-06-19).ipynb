{
 "cells": [
  {
   "cell_type": "markdown",
   "metadata": {},
   "source": [
    "# CONTROL FLOW STATEMENTS"
   ]
  },
  {
   "cell_type": "markdown",
   "metadata": {},
   "source": [
    "# EXAMPLES"
   ]
  },
  {
   "cell_type": "code",
   "execution_count": 6,
   "metadata": {},
   "outputs": [
    {
     "name": "stdout",
     "output_type": "stream",
     "text": [
      "the number is less than 15\n"
     ]
    }
   ],
   "source": [
    "x=10;\n",
    "if(x<15):\n",
    " print(\"the number is less than 15\");"
   ]
  },
  {
   "cell_type": "code",
   "execution_count": 12,
   "metadata": {},
   "outputs": [
    {
     "name": "stdout",
     "output_type": "stream",
     "text": [
      "the number is greater than 15\n"
     ]
    }
   ],
   "source": [
    "x=10;\n",
    "if(x>15):\n",
    " print(\"the number is less than 15\");\n",
    "else:\n",
    " print(\"the number is greater than 15\");"
   ]
  },
  {
   "cell_type": "code",
   "execution_count": 13,
   "metadata": {},
   "outputs": [
    {
     "name": "stdout",
     "output_type": "stream",
     "text": [
      "hello good after noon\n"
     ]
    }
   ],
   "source": [
    "x=10;\n",
    "if(x>15):\n",
    " print(\"hello good morning\");\n",
    "else:\n",
    " print(\"hello good after noon\");"
   ]
  },
  {
   "cell_type": "markdown",
   "metadata": {},
   "source": [
    "# EXAMPLE \n",
    "Need input as two numbers and print the greatest number"
   ]
  },
  {
   "cell_type": "code",
   "execution_count": 14,
   "metadata": {},
   "outputs": [
    {
     "name": "stdout",
     "output_type": "stream",
     "text": [
      "y is greater than x\n"
     ]
    }
   ],
   "source": [
    "x=10;\n",
    "y=20;\n",
    "if(x>y):\n",
    " print(\"x is greater than y\");\n",
    "else:\n",
    " print(\"y is greater than x\");"
   ]
  },
  {
   "cell_type": "code",
   "execution_count": 18,
   "metadata": {},
   "outputs": [
    {
     "name": "stdout",
     "output_type": "stream",
     "text": [
      "enter x10\n",
      "enter y20\n",
      "y is greater than x\n"
     ]
    }
   ],
   "source": [
    "x=int(input(\"enter x\"));\n",
    "y=int(input(\"enter y\"));\n",
    "if(x>y):\n",
    " print(\"x is greater than y\");\n",
    "else:\n",
    " print(\"y is greater than x\");"
   ]
  },
  {
   "cell_type": "markdown",
   "metadata": {},
   "source": [
    "# EXAMPLE\n",
    "Need two numbers as input if both the numbers are same then output must be square a first number if not the output must be multiplication of both numbers\n"
   ]
  },
  {
   "cell_type": "code",
   "execution_count": 22,
   "metadata": {},
   "outputs": [
    {
     "name": "stdout",
     "output_type": "stream",
     "text": [
      "enter x2\n",
      "enter y3\n",
      "6\n"
     ]
    }
   ],
   "source": [
    "x=int(input(\"enter x\"));\n",
    "y=int(input(\"enter y\"));\n",
    "if(x==y):\n",
    " print(x**x)\n",
    "else:\n",
    " print(x*y)"
   ]
  },
  {
   "cell_type": "markdown",
   "metadata": {},
   "source": [
    "# EXAMPLE\n",
    "Print the number is positive,negative or zero"
   ]
  },
  {
   "cell_type": "code",
   "execution_count": 1,
   "metadata": {},
   "outputs": [
    {
     "name": "stdout",
     "output_type": "stream",
     "text": [
      "enter x10\n",
      "x is positive number\n"
     ]
    }
   ],
   "source": [
    "x=int(input(\"enter x\"));\n",
    "if(x>0):\n",
    " print(\"x is positive number\");\n",
    "elif(x<0):\n",
    " print(\"x is negative number\");\n",
    "else:\n",
    " print(\"x is zero\");"
   ]
  },
  {
   "cell_type": "markdown",
   "metadata": {},
   "source": [
    "# LOOPS \n",
    "print the numbers from 1 to 10"
   ]
  },
  {
   "cell_type": "code",
   "execution_count": 3,
   "metadata": {},
   "outputs": [
    {
     "name": "stdout",
     "output_type": "stream",
     "text": [
      "1\n",
      "2\n",
      "3\n",
      "4\n",
      "5\n",
      "6\n",
      "7\n",
      "8\n",
      "9\n",
      "10\n"
     ]
    }
   ],
   "source": [
    "n=1;\n",
    "while(n<=10):\n",
    " print(n);\n",
    " n=n+1;"
   ]
  },
  {
   "cell_type": "markdown",
   "metadata": {},
   "source": [
    "# EXAMPLE\n",
    "print the numbers from 10 to 1"
   ]
  },
  {
   "cell_type": "code",
   "execution_count": 4,
   "metadata": {},
   "outputs": [
    {
     "name": "stdout",
     "output_type": "stream",
     "text": [
      "10\n",
      "9\n",
      "8\n",
      "7\n",
      "6\n",
      "5\n",
      "4\n",
      "3\n",
      "2\n",
      "1\n"
     ]
    }
   ],
   "source": [
    "n=10;\n",
    "while(n>=1):\n",
    " print(n);\n",
    " n=n-1;"
   ]
  },
  {
   "cell_type": "markdown",
   "metadata": {},
   "source": [
    "# EXAMPLE\n",
    "print the numbers from -22 to 45"
   ]
  },
  {
   "cell_type": "code",
   "execution_count": 1,
   "metadata": {},
   "outputs": [
    {
     "name": "stdout",
     "output_type": "stream",
     "text": [
      "-22\n",
      "-21\n",
      "-20\n",
      "-19\n",
      "-18\n",
      "-17\n",
      "-16\n",
      "-15\n",
      "-14\n",
      "-13\n",
      "-12\n",
      "-11\n",
      "-10\n",
      "-9\n",
      "-8\n",
      "-7\n",
      "-6\n",
      "-5\n",
      "-4\n",
      "-3\n",
      "-2\n",
      "-1\n",
      "0\n",
      "1\n",
      "2\n",
      "3\n",
      "4\n",
      "5\n",
      "6\n",
      "7\n",
      "8\n",
      "9\n",
      "10\n",
      "11\n",
      "12\n",
      "13\n",
      "14\n",
      "15\n",
      "16\n",
      "17\n",
      "18\n",
      "19\n",
      "20\n",
      "21\n",
      "22\n",
      "23\n",
      "24\n",
      "25\n",
      "26\n",
      "27\n",
      "28\n",
      "29\n",
      "30\n",
      "31\n",
      "32\n",
      "33\n",
      "34\n",
      "35\n",
      "36\n",
      "37\n",
      "38\n",
      "39\n",
      "40\n",
      "41\n",
      "42\n",
      "43\n",
      "44\n",
      "45\n"
     ]
    }
   ],
   "source": [
    "n=-22;\n",
    "while(n<=45):\n",
    " print(n);\n",
    " n=n+1;"
   ]
  },
  {
   "cell_type": "markdown",
   "metadata": {},
   "source": [
    "# EXAMPLE\n",
    "Print the sum of even numbers from 1 to 100"
   ]
  },
  {
   "cell_type": "code",
   "execution_count": 12,
   "metadata": {},
   "outputs": [
    {
     "name": "stdout",
     "output_type": "stream",
     "text": [
      "enter x1\n",
      "enter y100\n",
      "2450\n"
     ]
    }
   ],
   "source": [
    "x=int(input(\"enter x\"));\n",
    "y=int(input(\"enter y\"));\n",
    "sum=0;\n",
    "while(x!=y):\n",
    " if(x%2==0):\n",
    "    sum=sum+x;\n",
    " x=x+1;\n",
    "print(sum);"
   ]
  },
  {
   "cell_type": "markdown",
   "metadata": {},
   "source": [
    "# EXAMPLE\n",
    "Extract the digits of the number from right side direction"
   ]
  },
  {
   "cell_type": "code",
   "execution_count": 14,
   "metadata": {},
   "outputs": [
    {
     "name": "stdout",
     "output_type": "stream",
     "text": [
      "enter x145\n",
      "5\n",
      "4\n",
      "1\n"
     ]
    }
   ],
   "source": [
    "x=int(input(\"enter x\"));\n",
    "while(x!=0):\n",
    " r=x%10;\n",
    " print(r);\n",
    " x=x//10;"
   ]
  },
  {
   "cell_type": "raw",
   "metadata": {},
   "source": [
    "Print sum of even numbers in the given number\n"
   ]
  },
  {
   "cell_type": "code",
   "execution_count": 1,
   "metadata": {},
   "outputs": [
    {
     "name": "stdout",
     "output_type": "stream",
     "text": [
      "enter x20\n",
      "2\n"
     ]
    }
   ],
   "source": [
    "x=int(input(\"enter x\"));\n",
    "sum=0;\n",
    "while(x!=0):\n",
    " r=x%10;\n",
    " if(r%2==0):\n",
    "  sum=sum+r;\n",
    " x=x//10;\n",
    "print(sum);"
   ]
  },
  {
   "cell_type": "raw",
   "metadata": {},
   "source": [
    "convert the digit into digit name\n"
   ]
  },
  {
   "cell_type": "code",
   "execution_count": 2,
   "metadata": {},
   "outputs": [
    {
     "name": "stdout",
     "output_type": "stream",
     "text": [
      "enter x20\n",
      "zero\n",
      "two\n"
     ]
    }
   ],
   "source": [
    "x=int(input(\"enter x\"));\n",
    "\n",
    "while(x!=0):\n",
    "    r=x%10\n",
    "    \n",
    "    \n",
    "    if(r==0):\n",
    "      print(\"zero\");\n",
    "    elif(r==1):\n",
    "      print(\"one\");\n",
    "    elif(r==2):\n",
    "     print(\"two\");\n",
    "    elif(r==3):\n",
    "     print(\"three\");\n",
    "    elif(r==4):\n",
    "     print(\"four\");\n",
    "    elif(r==5):\n",
    "     print(\"five\");\n",
    "    elif(r==6):\n",
    "     print(\"six\");\n",
    "    elif(r==7):\n",
    "     print(\"seven\");\n",
    "    elif(r==8):\n",
    "     print(\"eight\");\n",
    "    elif(r==9):\n",
    "     print(\"nine\");\n",
    "    x=x//10;\n",
    " "
   ]
  },
  {
   "cell_type": "raw",
   "metadata": {},
   "source": [
    "How many time the digit is repeated between 2nd and 3rd number\n"
   ]
  },
  {
   "cell_type": "code",
   "execution_count": 3,
   "metadata": {},
   "outputs": [
    {
     "name": "stdout",
     "output_type": "stream",
     "text": [
      "number5\n",
      "low1\n",
      "up4\n",
      "0\n"
     ]
    }
   ],
   "source": [
    "digit=int(input(\"number\"));\n",
    "l1=int(input(\"low\"));\n",
    "l2=int(input(\"up\"));\n",
    "cnt=0;\n",
    "while(l1!=l2):\n",
    "    buffer=l1;\n",
    "    while(l1!=0):\n",
    "      r=l1%10;\n",
    "      if(r==digit):\n",
    "            cnt=cnt+1;\n",
    "      l1=l1//10;      \n",
    "        \n",
    "    l1=buffer;    \n",
    "        \n",
    "    l1=l1+1;\n",
    "print(cnt);    \n"
   ]
  },
  {
   "cell_type": "markdown",
   "metadata": {},
   "source": [
    "# FUNTIONAL PROGRAMMING\n",
    "Print the numbers upto the given number\n",
    "\n"
   ]
  },
  {
   "cell_type": "code",
   "execution_count": 4,
   "metadata": {},
   "outputs": [
    {
     "name": "stdout",
     "output_type": "stream",
     "text": [
      "1\n",
      "2\n",
      "3\n",
      "4\n",
      "5\n",
      "6\n",
      "7\n",
      "8\n",
      "9\n",
      "\n",
      "1\n",
      "2\n",
      "3\n",
      "4\n",
      "5\n",
      "6\n",
      "7\n",
      "8\n",
      "9\n",
      "10\n",
      "11\n",
      "12\n",
      "13\n",
      "14\n",
      "15\n",
      "\n"
     ]
    }
   ],
   "source": [
    "def printNNaturalNumbers(n):\n",
    "    cnt=1\n",
    "    while(cnt<=n):\n",
    "        print(cnt)\n",
    "        cnt=cnt+1\n",
    "    print()\n",
    "    return\n",
    "printNNaturalNumbers(9)\n",
    "printNNaturalNumbers(15)\n"
   ]
  },
  {
   "cell_type": "raw",
   "metadata": {},
   "source": [
    "print the sum of the factorial of the given number\n"
   ]
  },
  {
   "cell_type": "code",
   "execution_count": 5,
   "metadata": {},
   "outputs": [
    {
     "name": "stdout",
     "output_type": "stream",
     "text": [
      "120\n",
      "3628800\n",
      "2432902008176640000\n"
     ]
    }
   ],
   "source": [
    "def findfact(n):\n",
    "  fact=1;\n",
    "  while(n!=0):\n",
    "   fact=fact*n;\n",
    "   n=n-1;\n",
    "  return fact;\n",
    "print(findfact(5));\n",
    "print(findfact(10));\n",
    "print(findfact(20));"
   ]
  },
  {
   "cell_type": "raw",
   "metadata": {},
   "source": [
    "count the palindrome number between the given range\n"
   ]
  },
  {
   "cell_type": "code",
   "execution_count": 6,
   "metadata": {},
   "outputs": [
    {
     "name": "stdout",
     "output_type": "stream",
     "text": [
      "18\n"
     ]
    }
   ],
   "source": [
    "def countOfPalindromes(n1,n2):\n",
    "    c=0;\n",
    "    if(n1<n2):\n",
    "        up=n2;\n",
    "        low=n1;\n",
    "    while(low!=up):\n",
    "        i=low;\n",
    "        r=0;\n",
    "        while(i!=0):\n",
    "            s=i%10;\n",
    "            r=(r*10)+s;\n",
    "            i=i//10;\n",
    "        if(r==low):\n",
    "            c=c+1;\n",
    "        low=low+1;\n",
    "    return c;\n",
    "print(countOfPalindromes(1,100));\n"
   ]
  },
  {
   "cell_type": "code",
   "execution_count": null,
   "metadata": {},
   "outputs": [],
   "source": []
  },
  {
   "cell_type": "code",
   "execution_count": null,
   "metadata": {},
   "outputs": [],
   "source": []
  }
 ],
 "metadata": {
  "kernelspec": {
   "display_name": "Python 3",
   "language": "python",
   "name": "python3"
  },
  "language_info": {
   "codemirror_mode": {
    "name": "ipython",
    "version": 3
   },
   "file_extension": ".py",
   "mimetype": "text/x-python",
   "name": "python",
   "nbconvert_exporter": "python",
   "pygments_lexer": "ipython3",
   "version": "3.7.3"
  }
 },
 "nbformat": 4,
 "nbformat_minor": 2
}
