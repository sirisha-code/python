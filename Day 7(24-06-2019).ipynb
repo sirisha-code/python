{
 "cells": [
  {
   "cell_type": "markdown",
   "metadata": {},
   "source": [
    "# Example"
   ]
  },
  {
   "cell_type": "code",
   "execution_count": 8,
   "metadata": {},
   "outputs": [
    {
     "name": "stdout",
     "output_type": "stream",
     "text": [
      "90\n"
     ]
    }
   ],
   "source": [
    "def printEven(n):\n",
    "    cnt = 0;\n",
    "    sum = 0;\n",
    "    while(cnt!=n):\n",
    "      if(cnt%2==0):\n",
    "       sum = sum + cnt;\n",
    "      cnt = cnt + 1;\n",
    "    return(sum);    \n",
    "print(printEven(20));"
   ]
  },
  {
   "cell_type": "markdown",
   "metadata": {},
   "source": [
    "# Example\n",
    "Factors list of the given numbers"
   ]
  },
  {
   "cell_type": "code",
   "execution_count": 9,
   "metadata": {},
   "outputs": [
    {
     "name": "stdout",
     "output_type": "stream",
     "text": [
      "1 2 3 4 6 "
     ]
    }
   ],
   "source": [
    "def factorsList(n):\n",
    "    i = 1;\n",
    "    while(i!=n):\n",
    "        if(n%i==0):\n",
    "          print(i,end= \" \");\n",
    "        i = i + 1;\n",
    "    return ;\n",
    "factorsList(12);"
   ]
  },
  {
   "cell_type": "code",
   "execution_count": 10,
   "metadata": {},
   "outputs": [
    {
     "name": "stdout",
     "output_type": "stream",
     "text": [
      "[1, 2, 3, 4, 5]\n",
      "1\n"
     ]
    }
   ],
   "source": [
    "list1 = [1,2,3,4,5];\n",
    "#Entire List\n",
    "print(list1);\n",
    "#list[0]\n",
    "print(list1[0])"
   ]
  },
  {
   "cell_type": "code",
   "execution_count": 15,
   "metadata": {},
   "outputs": [
    {
     "name": "stdout",
     "output_type": "stream",
     "text": [
      "Akhil Aravind Anil Akash "
     ]
    }
   ],
   "source": [
    "list2 = [\"Akhil\",\"Aravind\",\"Anil\",\"Akash\"];\n",
    "for x in list2:\n",
    " print(x,end=\" \");"
   ]
  },
  {
   "cell_type": "code",
   "execution_count": 16,
   "metadata": {},
   "outputs": [
    {
     "name": "stdout",
     "output_type": "stream",
     "text": [
      "1 2 3 4 5 6 7 \n",
      "5\n",
      "[4, 5, 6, 7]\n",
      "[1, 2, 3]\n",
      "[1, 2, 3]\n",
      "[1, 2, 3, 4, 5, 6, 7]\n"
     ]
    }
   ],
   "source": [
    "# List example with particular index\n",
    "lst1 = [1,2,3,4,5,6,7]\n",
    "for x in lst1:\n",
    "    print(x,end= \" \")\n",
    "print();\n",
    "print(lst1[4]);\n",
    "print(lst1[3:7]);\n",
    "print(lst1[0:3]);\n",
    "print(lst1[:3]);\n",
    "print(lst1[:7]);"
   ]
  },
  {
   "cell_type": "code",
   "execution_count": 19,
   "metadata": {},
   "outputs": [
    {
     "name": "stdout",
     "output_type": "stream",
     "text": [
      "1 2 3 4 5 6 7 8 9 10 \n",
      "[2, 3, 4, 5, 6, 7, 8, 9]\n",
      "[3, 4, 5, 6, 7, 8]\n",
      "[1, 3, 5, 7, 9]\n",
      "[1, 4, 7, 10]\n",
      "[1, 5, 9]\n",
      "[10, 8, 6, 4, 2]\n",
      "10\n",
      "9\n"
     ]
    }
   ],
   "source": [
    "lst1=[1,2,3,4,5,6,7,8,9,10]\n",
    "for x in lst1:\n",
    "    print(x,end = \" \")\n",
    "print();\n",
    "print(lst1[1:-1]);\n",
    "print(lst1[2:-2]);\n",
    "print(lst1[::2]);\n",
    "print(lst1[::3]);\n",
    "print(lst1[::4]);\n",
    "print(lst1[::-2]);\n",
    "print(lst1[-1]);\n",
    "print(lst1[-2]);\n"
   ]
  },
  {
   "cell_type": "markdown",
   "metadata": {},
   "source": [
    "# Example\n",
    "various operations on the list"
   ]
  },
  {
   "cell_type": "code",
   "execution_count": 22,
   "metadata": {},
   "outputs": [
    {
     "name": "stdout",
     "output_type": "stream",
     "text": [
      "['Akhil', 'Ada', 'Akhil', 1]\n",
      "['Akhil', 'Ada', 15, 1]\n",
      "['Akhil', 'Ada', 15]\n",
      "['Akhil', 'Gitam', 15]\n",
      "[1, 2, 3]\n",
      "['Akhil', 'Gitam', 15, 1, 2, 3]\n"
     ]
    }
   ],
   "source": [
    "lst1 = [\"Akhil\",\"Ada\",\"Akhil\" ,1];\n",
    "print(lst1);\n",
    "\n",
    "lst1[2] = 15;#update the list item\n",
    "print(lst1);\n",
    "\n",
    "del lst1[3];#delete the list item\n",
    "print(lst1);\n",
    "\n",
    "lst1[1] = \"Gitam\";\n",
    "print(lst1);\n",
    "\n",
    "lst2 = [1,2,3];\n",
    "print(lst2);\n",
    "print(lst1+lst2);#CONCATINATION OF BOTH THE LIST\n"
   ]
  },
  {
   "cell_type": "markdown",
   "metadata": {},
   "source": [
    "# Example\n",
    "List Methods\n",
    "append (mix the given numbers in the list)"
   ]
  },
  {
   "cell_type": "code",
   "execution_count": 26,
   "metadata": {},
   "outputs": [
    {
     "name": "stdout",
     "output_type": "stream",
     "text": [
      "[1, 2, 3, 4, 5]\n",
      "[1, 2, 4, 5]\n",
      "4\n",
      "[1, 2, 4, 5, 15, 150, 1, 3, 1]\n",
      "3\n",
      "1\n"
     ]
    }
   ],
   "source": [
    "lst1 = [1,2,3,4,5]\n",
    "print(lst1);\n",
    "del lst1[2];\n",
    "print(lst1);\n",
    "#lst1[4] = 15;\n",
    "print(len(lst1));\n",
    "lst1.append(15);\n",
    "lst1.append(150);\n",
    "lst1.append(1);\n",
    "lst1.append(3);\n",
    "lst1.append(1);\n",
    "print(lst1);\n",
    "print(lst1.count(1))\n",
    "print(lst1.count(3))"
   ]
  },
  {
   "cell_type": "markdown",
   "metadata": {},
   "source": [
    "# Example\n",
    "index (passed object first occerance from the left side)"
   ]
  },
  {
   "cell_type": "code",
   "execution_count": null,
   "metadata": {},
   "outputs": [],
   "source": [
    "lst1=[\"Gitam\",\"Python\",\"Raptor\",1,5,\"Python\",\"Python\"]\n",
    "print(lst1)\n",
    "lst1.index(\"Python\")\n",
    "(lst1.index(1))\n",
    "lst1.insert(2,2019)\n",
    "print(lst1)\n",
    "print(len(lst1))\n",
    "lst1.insert(4,2020)\n",
    "print(lst1)"
   ]
  },
  {
   "cell_type": "markdown",
   "metadata": {},
   "source": [
    "# Example\n",
    "remove (removes the passed object from the first occerance from the left direction)    \n",
    "reverse (reverses the whole list)"
   ]
  },
  {
   "cell_type": "code",
   "execution_count": null,
   "metadata": {},
   "outputs": [],
   "source": [
    "lst1=[\"Gitam\",\"Python\",\"Raptor\",1,5,\"Python\",\"Python\"]\n",
    "print(lst1)\n",
    "lst1.remove(\"Python\")\n",
    "print(lst1)\n",
    "lst1.remove(\"Python\")\n",
    "print(lst1)\n",
    "lst1.reverse()\n",
    "print(lst1)"
   ]
  },
  {
   "cell_type": "markdown",
   "metadata": {},
   "source": [
    "# Data Structures"
   ]
  },
  {
   "cell_type": "raw",
   "metadata": {},
   "source": [
    "**How to store the data            List--Data Strucures\n",
    "**How to search                    Arrays--Data Structures   \n",
    "          #### linear search (it can apply to sorted and unsorted list,unique list)                                                                      unique list(all items appears only once)\n",
    "               duplicate list--items of the list sometimes appears more than once           \n",
    "          #### binary search\n",
    "**How to sort"
   ]
  },
  {
   "cell_type": "code",
   "execution_count": 49,
   "metadata": {},
   "outputs": [
    {
     "name": "stdout",
     "output_type": "stream",
     "text": [
      "Target item is not found\n",
      "Target item is found\n"
     ]
    }
   ],
   "source": [
    "def linearSearch(a,tarItem):\n",
    "    flag=0;\n",
    "    for i in range(len(a)):\n",
    "        if a[i]==tarItem:\n",
    "            flag=1;\n",
    "            break\n",
    "    if(flag!=0):\n",
    "            print(\"Target item is found\")\n",
    "    else:\n",
    "            print(\"Target item is not found\")\n",
    "a=[16,2,12,6,9,7,1]            \n",
    "linearSearch(a,61)\n",
    "linearSearch(a,16)"
   ]
  },
  {
   "cell_type": "raw",
   "metadata": {},
   "source": [
    "duplicate"
   ]
  },
  {
   "cell_type": "code",
   "execution_count": 52,
   "metadata": {},
   "outputs": [
    {
     "name": "stdout",
     "output_type": "stream",
     "text": [
      "2\n"
     ]
    }
   ],
   "source": [
    "def linearSearchDuplicate(a,tarItem):\n",
    "    flag=0;\n",
    "    for i in range(len(a)):\n",
    "        if a[i]==tarItem:\n",
    "            flag=flag+1;\n",
    "            \n",
    "    print(flag)\n",
    "a=[9,1,6,1,5,9,15,16]        \n",
    "linearSearchDuplicate(a,9)"
   ]
  },
  {
   "cell_type": "code",
   "execution_count": null,
   "metadata": {},
   "outputs": [],
   "source": []
  },
  {
   "cell_type": "code",
   "execution_count": null,
   "metadata": {},
   "outputs": [],
   "source": []
  },
  {
   "cell_type": "code",
   "execution_count": null,
   "metadata": {},
   "outputs": [],
   "source": []
  }
 ],
 "metadata": {
  "kernelspec": {
   "display_name": "Python 3",
   "language": "python",
   "name": "python3"
  },
  "language_info": {
   "codemirror_mode": {
    "name": "ipython",
    "version": 3
   },
   "file_extension": ".py",
   "mimetype": "text/x-python",
   "name": "python",
   "nbconvert_exporter": "python",
   "pygments_lexer": "ipython3",
   "version": "3.7.3"
  }
 },
 "nbformat": 4,
 "nbformat_minor": 2
}
